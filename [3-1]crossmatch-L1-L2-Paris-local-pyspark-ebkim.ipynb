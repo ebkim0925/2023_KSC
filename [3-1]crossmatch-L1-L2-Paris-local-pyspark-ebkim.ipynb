{
 "cells": [
  {
   "cell_type": "markdown",
   "metadata": {},
   "source": [
    "# Cross-match L1 and L2 at the TCCONN site in Paris \n",
    "\n",
    "- Cross-match between L1 features and L2 $X_{co2}$ lables "
   ]
  },
  {
   "cell_type": "markdown",
   "metadata": {},
   "source": [
    "#### Import Basic Libraries"
   ]
  },
  {
   "cell_type": "code",
   "execution_count": 1,
   "metadata": {},
   "outputs": [],
   "source": [
    "import numpy as np\n",
    "import pandas as pd\n",
    "import glob\n",
    "import sys\n",
    "import h5py\n",
    "#from netCDF4 import Dataset\n",
    "from datetime import datetime\n",
    "from tqdm.notebook import tqdm\n",
    "import matplotlib.pyplot as plt\n",
    "from scipy.spatial import cKDTree\n",
    "\n",
    "import pyarrow as pa\n",
    "import pyarrow.parquet as pq\n",
    "\n",
    "from functools import reduce\n",
    "import operator\n",
    "import gc"
   ]
  },
  {
   "cell_type": "code",
   "execution_count": 2,
   "metadata": {},
   "outputs": [],
   "source": [
    "# plot settings\n",
    "plt.rc('font', family='serif') \n",
    "plt.rc('font', serif='Times New Roman') \n",
    "plt.rcParams.update({'font.size': 16})\n",
    "plt.rcParams['mathtext.fontset'] = 'stix'"
   ]
  },
  {
   "cell_type": "code",
   "execution_count": 3,
   "metadata": {},
   "outputs": [],
   "source": [
    "# PySpark packages\n",
    "from pyspark import SparkContext   \n",
    "from pyspark.sql import SparkSession\n",
    "\n",
    "import pyspark.sql.functions as F\n",
    "import pyspark.sql.types as T\n",
    "from pyspark import Row\n",
    "from pyspark.sql.window import Window as W\n",
    "\n",
    "\n",
    "spark = SparkSession.builder \\\n",
    "    .master(\"yarn\") \\\n",
    "    .appName(\"spark-shell\") \\\n",
    "    .config(\"spark.driver.maxResultSize\", \"32g\") \\\n",
    "    .config(\"spark.driver.memory\", \"32g\") \\\n",
    "    .config(\"spark.executor.memory\", \"14g\") \\\n",
    "    .config(\"spark.executor.cores\", \"2\") \\\n",
    "    .config(\"spark.executor.instances\", \"20\") \\\n",
    "    .getOrCreate()\n",
    "\n",
    "\n",
    "sc = spark.sparkContext\n",
    "sc.setCheckpointDir(\"hdfs://spark00:54310/tmp/checkpoints\")\n",
    "\n",
    "spark.conf.set(\"spark.sql.debug.maxToStringFields\", 500)\n",
    "spark.conf.set(\"spark.sql.execution.arrow.pyspark.enabled\", \"true\")"
   ]
  },
  {
   "cell_type": "markdown",
   "metadata": {},
   "source": [
    "## Read L1 and L2 in Paris"
   ]
  },
  {
   "cell_type": "code",
   "execution_count": 4,
   "metadata": {},
   "outputs": [
    {
     "name": "stdout",
     "output_type": "stream",
     "text": [
      "oco2_L1_healpix_nside1024.parquet.gzip\tparis_L2.parquet.snappy\r\n",
      "oco2_L2_healpix_nside1024.parquet.gzip\tparis_L2_iall.parquet.snappy\r\n",
      "paris_L1.parquet.snappy\t\t\tparis_L2_iall_pandas.parquet.snappy\r\n",
      "paris_L1_isite.parquet.snappy\t\tparis_L2_isite.parquet.snappy\r\n",
      "paris_L1_isite_pandas.parquet.snappy\tparis_L2_pandas.parquet.snappy\r\n",
      "paris_L1_pandas.parquet.snappy\t\tparis_basic_info_pandas.parquet.gzip\r\n"
     ]
    }
   ],
   "source": [
    "!ls /home/ebkim/work/oco2/data/"
   ]
  },
  {
   "cell_type": "code",
   "execution_count": 5,
   "metadata": {},
   "outputs": [],
   "source": [
    "onefilename = 'hdfs://spark00:54310/user/ebkim/data/paris_L1_isite.parquet.snappy'\n",
    "twofilename = 'hdfs://spark00:54310/user/ebkim/data/paris_L2_iall.parquet.snappy'"
   ]
  },
  {
   "cell_type": "code",
   "execution_count": 6,
   "metadata": {},
   "outputs": [],
   "source": [
    "onedf = spark.read.parquet(onefilename)"
   ]
  },
  {
   "cell_type": "code",
   "execution_count": 7,
   "metadata": {},
   "outputs": [],
   "source": [
    "twodf = spark.read.parquet(twofilename)"
   ]
  },
  {
   "cell_type": "code",
   "execution_count": 8,
   "metadata": {},
   "outputs": [
    {
     "name": "stdout",
     "output_type": "stream",
     "text": [
      "root\n",
      " |-- filename: string (nullable = true)\n",
      " |-- channel_ind: integer (nullable = true)\n",
      " |-- pix_ind: integer (nullable = true)\n",
      " |-- row_ind: integer (nullable = true)\n",
      " |-- altitude: float (nullable = true)\n",
      " |-- longitude: float (nullable = true)\n",
      " |-- latitude: float (nullable = true)\n",
      " |-- aspect: float (nullable = true)\n",
      " |-- slope: float (nullable = true)\n",
      " |-- sol_az: float (nullable = true)\n",
      " |-- sol_zn: float (nullable = true)\n",
      " |-- fo_az: float (nullable = true)\n",
      " |-- fo_zn: float (nullable = true)\n",
      " |-- flag: integer (nullable = true)\n",
      " |-- snr: float (nullable = true)\n",
      " |-- continuum: float (nullable = true)\n",
      " |-- time_str: string (nullable = true)\n",
      " |-- spectrum: array (nullable = true)\n",
      " |    |-- element: double (containsNull = true)\n",
      " |-- ipx1024nested: integer (nullable = true)\n",
      "\n"
     ]
    }
   ],
   "source": [
    "onedf.printSchema()"
   ]
  },
  {
   "cell_type": "code",
   "execution_count": 9,
   "metadata": {},
   "outputs": [
    {
     "name": "stdout",
     "output_type": "stream",
     "text": [
      "root\n",
      " |-- filename: string (nullable = true)\n",
      " |-- altitude: float (nullable = true)\n",
      " |-- longitude: float (nullable = true)\n",
      " |-- latitude: float (nullable = true)\n",
      " |-- aspect: float (nullable = true)\n",
      " |-- slope: float (nullable = true)\n",
      " |-- sol_az: float (nullable = true)\n",
      " |-- sol_zn: float (nullable = true)\n",
      " |-- xco2: float (nullable = true)\n",
      " |-- time_str: string (nullable = true)\n",
      " |-- ipx1024nested: integer (nullable = true)\n",
      "\n"
     ]
    }
   ],
   "source": [
    "twodf.printSchema()"
   ]
  },
  {
   "cell_type": "code",
   "execution_count": 10,
   "metadata": {},
   "outputs": [
    {
     "name": "stdout",
     "output_type": "stream",
     "text": [
      "['channel_ind', 'altitude', 'longitude', 'latitude', 'aspect', 'slope', 'sol_az', 'sol_zn', 'time_str', 'ipx1024nested']\n"
     ]
    }
   ],
   "source": [
    "onecolumns = [onedf.columns[1]]+onedf.columns[4:11]+[onedf.columns[16],onedf.columns[18]]\n",
    "print(onecolumns)"
   ]
  },
  {
   "cell_type": "code",
   "execution_count": 11,
   "metadata": {},
   "outputs": [
    {
     "name": "stdout",
     "output_type": "stream",
     "text": [
      "+-----------+---------+---------+---------+---------+----------+---------+---------+--------------------+\n",
      "|channel_ind| altitude|longitude| latitude|   aspect|     slope|   sol_az|   sol_zn|            time_str|\n",
      "+-----------+---------+---------+---------+---------+----------+---------+---------+--------------------+\n",
      "|          0|42.051094|   2.3677|48.852226| 189.7125|0.49040127|207.24275|30.967089|2021-07-22T12:55:...|\n",
      "|          1|42.971222|2.3672364| 48.85481|195.08481|0.10498047|207.23999| 30.96925|2021-07-22T12:55:...|\n",
      "|          2| 43.06294|2.3674605|48.855442|188.61536|0.10852284|207.23982|30.969864|2021-07-22T12:55:...|\n",
      "|          0|51.605095|2.3902748|48.850983|225.64519| 1.1066356| 207.2849|30.973173|2021-07-22T12:55:...|\n",
      "|          1|53.896103|2.3896976| 48.85335| 245.7854| 1.1184887|207.28212|30.975107|2021-07-22T12:55:...|\n",
      "|          2| 54.90566| 2.390066| 48.85391| 330.3064| 0.8225637|207.28226|  30.9757|2021-07-22T12:55:...|\n",
      "+-----------+---------+---------+---------+---------+----------+---------+---------+--------------------+\n",
      "only showing top 6 rows\n",
      "\n"
     ]
    }
   ],
   "source": [
    "onedf.select(onecolumns[:-1]).show(6,truncate=True)"
   ]
  },
  {
   "cell_type": "code",
   "execution_count": 12,
   "metadata": {},
   "outputs": [
    {
     "name": "stdout",
     "output_type": "stream",
     "text": [
      "['altitude', 'longitude', 'latitude', 'aspect', 'slope', 'sol_az', 'sol_zn', 'xco2', 'time_str', 'ipx1024nested']\n"
     ]
    }
   ],
   "source": [
    "twocolumns = twodf.columns[1:]\n",
    "print(twocolumns)"
   ]
  },
  {
   "cell_type": "code",
   "execution_count": 13,
   "metadata": {},
   "outputs": [
    {
     "name": "stdout",
     "output_type": "stream",
     "text": [
      "+---------+---------+---------+---------+----------+---------+---------+------------+--------------------+\n",
      "| altitude|longitude| latitude|   aspect|     slope|   sol_az|   sol_zn|        xco2|            time_str|\n",
      "+---------+---------+---------+---------+----------+---------+---------+------------+--------------------+\n",
      "| 57.66209|2.3300796|48.842953|357.95782| 1.2404993|206.97125|30.910488| 4.093791E-4|2021-07-22T12:54:...|\n",
      "|56.111057| 2.311695|48.840572| 326.1981| 1.4134638|206.94139|30.902916| 4.091359E-4|2021-07-22T12:54:...|\n",
      "|43.401897| 2.293364| 48.83822|301.02423|0.86440855|206.91159|30.895386|4.0951013E-4|2021-07-22T12:54:...|\n",
      "| 60.11515| 2.424551|48.853153|185.50987| 0.9138781| 207.1285|30.948095| 4.093566E-4|2021-07-22T12:54:...|\n",
      "|58.226757|2.4061873| 48.85031|  165.122| 0.5481995|207.09908| 30.94009|4.0924925E-4|2021-07-22T12:54:...|\n",
      "|46.581917|2.3877516|  48.8475|255.88002|0.81258553| 207.0695|30.932096| 4.086528E-4|2021-07-22T12:54:...|\n",
      "+---------+---------+---------+---------+----------+---------+---------+------------+--------------------+\n",
      "only showing top 6 rows\n",
      "\n"
     ]
    }
   ],
   "source": [
    "twodf.select(twocolumns[:-1]).show(6,truncate=True)"
   ]
  },
  {
   "cell_type": "markdown",
   "metadata": {},
   "source": [
    "#### Pandas Dataframes "
   ]
  },
  {
   "cell_type": "code",
   "execution_count": 14,
   "metadata": {},
   "outputs": [
    {
     "name": "stdout",
     "output_type": "stream",
     "text": [
      "CPU times: user 10.3 ms, sys: 0 ns, total: 10.3 ms\n",
      "Wall time: 1.49 s\n"
     ]
    }
   ],
   "source": [
    "%%time\n",
    "onepdf = onedf.select(onecolumns).toPandas()"
   ]
  },
  {
   "cell_type": "code",
   "execution_count": 15,
   "metadata": {},
   "outputs": [
    {
     "name": "stdout",
     "output_type": "stream",
     "text": [
      "CPU times: user 9.3 ms, sys: 207 µs, total: 9.5 ms\n",
      "Wall time: 1.38 s\n"
     ]
    }
   ],
   "source": [
    "%%time\n",
    "twopdf = twodf.select(twocolumns).toPandas()"
   ]
  },
  {
   "cell_type": "code",
   "execution_count": 16,
   "metadata": {},
   "outputs": [
    {
     "name": "stdout",
     "output_type": "stream",
     "text": [
      "/home/shong/work/oco2/notebook\r\n"
     ]
    }
   ],
   "source": [
    "!pwd"
   ]
  },
  {
   "cell_type": "code",
   "execution_count": 17,
   "metadata": {},
   "outputs": [],
   "source": [
    "onepdf.to_parquet('/home/ebkim/work/oco2/data/paris_L1_isite_pandas.parquet.snappy')\n",
    "twopdf.to_parquet('/home/ebkim/work/oco2/data/paris_L2_iall_pandas.parquet.snappy')"
   ]
  },
  {
   "cell_type": "markdown",
   "metadata": {},
   "source": [
    "## Cross-match L1 and L2 "
   ]
  },
  {
   "cell_type": "code",
   "execution_count": 18,
   "metadata": {},
   "outputs": [
    {
     "name": "stdout",
     "output_type": "stream",
     "text": [
      "<class 'pandas.core.frame.DataFrame'>\n",
      "RangeIndex: 3081 entries, 0 to 3080\n",
      "Data columns (total 10 columns):\n",
      " #   Column         Non-Null Count  Dtype  \n",
      "---  ------         --------------  -----  \n",
      " 0   channel_ind    3081 non-null   int32  \n",
      " 1   altitude       3081 non-null   float32\n",
      " 2   longitude      3081 non-null   float32\n",
      " 3   latitude       3081 non-null   float32\n",
      " 4   aspect         3081 non-null   float32\n",
      " 5   slope          3081 non-null   float32\n",
      " 6   sol_az         3081 non-null   float32\n",
      " 7   sol_zn         3081 non-null   float32\n",
      " 8   time_str       3081 non-null   object \n",
      " 9   ipx1024nested  3081 non-null   int32  \n",
      "dtypes: float32(7), int32(2), object(1)\n",
      "memory usage: 132.5+ KB\n"
     ]
    }
   ],
   "source": [
    "onepdf.info()"
   ]
  },
  {
   "cell_type": "code",
   "execution_count": 19,
   "metadata": {},
   "outputs": [
    {
     "name": "stdout",
     "output_type": "stream",
     "text": [
      "<class 'pandas.core.frame.DataFrame'>\n",
      "RangeIndex: 4237 entries, 0 to 4236\n",
      "Data columns (total 10 columns):\n",
      " #   Column         Non-Null Count  Dtype  \n",
      "---  ------         --------------  -----  \n",
      " 0   altitude       4237 non-null   float32\n",
      " 1   longitude      4237 non-null   float32\n",
      " 2   latitude       4237 non-null   float32\n",
      " 3   aspect         4237 non-null   float32\n",
      " 4   slope          4237 non-null   float32\n",
      " 5   sol_az         4237 non-null   float32\n",
      " 6   sol_zn         4237 non-null   float32\n",
      " 7   xco2           4237 non-null   float32\n",
      " 8   time_str       4237 non-null   object \n",
      " 9   ipx1024nested  4237 non-null   int32  \n",
      "dtypes: float32(8), int32(1), object(1)\n",
      "memory usage: 182.2+ KB\n"
     ]
    }
   ],
   "source": [
    "twopdf.info()"
   ]
  },
  {
   "cell_type": "code",
   "execution_count": null,
   "metadata": {},
   "outputs": [],
   "source": []
  }
 ],
 "metadata": {
  "kernelspec": {
   "display_name": "Python 3",
   "language": "python",
   "name": "python3"
  },
  "language_info": {
   "codemirror_mode": {
    "name": "ipython",
    "version": 3
   },
   "file_extension": ".py",
   "mimetype": "text/x-python",
   "name": "python",
   "nbconvert_exporter": "python",
   "pygments_lexer": "ipython3",
   "version": "3.8.10"
  }
 },
 "nbformat": 4,
 "nbformat_minor": 4
}
