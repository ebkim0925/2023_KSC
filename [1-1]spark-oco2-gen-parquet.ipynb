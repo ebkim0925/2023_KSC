{
 "cells": [
  {
   "cell_type": "markdown",
   "metadata": {},
   "source": [
    "## Import Basic Libraries"
   ]
  },
  {
   "cell_type": "code",
   "execution_count": 1,
   "metadata": {},
   "outputs": [],
   "source": [
    "import numpy as np\n",
    "import pandas as pd\n",
    "import glob\n",
    "import sys\n",
    "import h5py\n",
    "#from netCDF4 import Dataset\n",
    "from datetime import datetime\n",
    "from tqdm.notebook import tqdm\n",
    "import matplotlib.pyplot as plt\n",
    "from scipy.spatial import cKDTree\n",
    "\n",
    "import pyarrow as pa\n",
    "import pyarrow.parquet as pq\n",
    "\n",
    "from functools import reduce\n",
    "import operator\n",
    "import gc"
   ]
  },
  {
   "cell_type": "code",
   "execution_count": 2,
   "metadata": {},
   "outputs": [],
   "source": [
    "# plot settings\n",
    "plt.rc('font', family='serif') \n",
    "plt.rc('font', serif='Times New Roman') \n",
    "plt.rcParams.update({'font.size': 16})\n",
    "plt.rcParams['mathtext.fontset'] = 'stix'"
   ]
  },
  {
   "cell_type": "markdown",
   "metadata": {},
   "source": [
    "## Define SparkSession and sparkContext"
   ]
  },
  {
   "cell_type": "code",
   "execution_count": 5,
   "metadata": {},
   "outputs": [
    {
     "data": {
      "text/plain": [
       "'\\nspark = SparkSession     .builder     .master(\"spark://spark-ms-0.spark-ms.default.svc.cluster.local:7077\")     .config(\"spark.driver.memory\", \"20g\")     .config(\"spark.executor.memory\", \"16g\")     .config(\"spark.driver.maxResultSize\", \"8g\")    .config(\"spark.hadoop.fs.s3a.access.key\", \"spark\")    .config(\"spark.hadoop.fs.s3a.secret.key\", \"kistispark\")    .config(\"spark.hadoop.fs.s3a.endpoint\", \"http://minio-service.default.svc.cluster.local:9000\")    .config(\"spark.hadoop.fs.s3a.path.style.access\", True)    .appName(\"test\")     .getOrCreate()\\n\\nsc = spark.sparkContext'"
      ]
     },
     "execution_count": 5,
     "metadata": {},
     "output_type": "execute_result"
    }
   ],
   "source": [
    "# This is for the KISTI env.\n",
    "\"\"\"\n",
    "spark = SparkSession \\\n",
    "    .builder \\\n",
    "    .master(\"spark://spark-ms-0.spark-ms.default.svc.cluster.local:7077\") \\\n",
    "    .config(\"spark.driver.memory\", \"20g\") \\\n",
    "    .config(\"spark.executor.memory\", \"16g\") \\\n",
    "    .config(\"spark.driver.maxResultSize\", \"8g\")\\\n",
    "    .config(\"spark.hadoop.fs.s3a.access.key\", \"spark\")\\\n",
    "    .config(\"spark.hadoop.fs.s3a.secret.key\", \"kistispark\")\\\n",
    "    .config(\"spark.hadoop.fs.s3a.endpoint\", \"http://minio-service.default.svc.cluster.local:9000\")\\\n",
    "    .config(\"spark.hadoop.fs.s3a.path.style.access\", True)\\\n",
    "    .appName(\"test\") \\\n",
    "    .getOrCreate()\n",
    "\n",
    "sc = spark.sparkContext\n",
    "\"\"\""
   ]
  },
  {
   "cell_type": "code",
   "execution_count": 3,
   "metadata": {},
   "outputs": [],
   "source": [
    "# PySpark packages\n",
    "from pyspark import SparkContext   \n",
    "from pyspark.sql import SparkSession\n",
    "\n",
    "import pyspark.sql.functions as F\n",
    "import pyspark.sql.types as T\n",
    "from pyspark import Row\n",
    "from pyspark.sql.window import Window as W\n",
    "\n",
    "\n",
    "spark = SparkSession.builder \\\n",
    "    .master(\"yarn\") \\\n",
    "    .appName(\"spark-shell\") \\\n",
    "    .config(\"spark.driver.maxResultSize\", \"32g\") \\\n",
    "    .config(\"spark.driver.memory\", \"32g\") \\\n",
    "    .config(\"spark.executor.memory\", \"14g\") \\\n",
    "    .config(\"spark.executor.cores\", \"2\") \\\n",
    "    .config(\"spark.executor.instances\", \"60\") \\\n",
    "    .getOrCreate()\n",
    "\n",
    "\n",
    "sc = spark.sparkContext\n",
    "sc.setCheckpointDir(\"hdfs://spark00:54310/tmp/checkpoints\")\n",
    "\n",
    "spark.conf.set(\"spark.sql.debug.maxToStringFields\", 500)\n",
    "spark.conf.set(\"spark.sql.execution.arrow.pyspark.enabled\", \"true\")"
   ]
  },
  {
   "cell_type": "code",
   "execution_count": 4,
   "metadata": {},
   "outputs": [
    {
     "data": {
      "text/plain": [
       "[('spark.driver.memory', '32g'),\n",
       " ('spark.driver.appUIAddress', 'http://spark00:4040'),\n",
       " ('spark.driver.maxResultSize', '32g'),\n",
       " ('spark.org.apache.hadoop.yarn.server.webproxy.amfilter.AmIpFilter.param.PROXY_URI_BASES',\n",
       "  'http://spark04:8088/proxy/application_1689144870884_0095'),\n",
       " ('spark.master', 'yarn'),\n",
       " ('spark.executor.id', 'driver'),\n",
       " ('spark.submit.deployMode', 'client'),\n",
       " ('spark.executor.cores', '2'),\n",
       " ('spark.app.id', 'application_1689144870884_0095'),\n",
       " ('spark.serializer.objectStreamReset', '100')]"
      ]
     },
     "execution_count": 4,
     "metadata": {},
     "output_type": "execute_result"
    }
   ],
   "source": [
    "sc.getConf().getAll()[:10]"
   ]
  },
  {
   "cell_type": "markdown",
   "metadata": {},
   "source": [
    "## Read h5 files "
   ]
  },
  {
   "cell_type": "code",
   "execution_count": 5,
   "metadata": {},
   "outputs": [],
   "source": [
    "h5dir = '/mnt/raid5/shong/oco2/'"
   ]
  },
  {
   "cell_type": "code",
   "execution_count": 6,
   "metadata": {
    "scrolled": true
   },
   "outputs": [],
   "source": [
    "flist = !ls /mnt/raid5/shong/oco2/"
   ]
  },
  {
   "cell_type": "code",
   "execution_count": 7,
   "metadata": {},
   "outputs": [
    {
     "data": {
      "text/plain": [
       "['diff.txt',\n",
       " 'file.txt',\n",
       " 'file_e.txt',\n",
       " 'oco2_L1bScGL_37218a_210701_B10206r_210817230313.h5',\n",
       " 'oco2_L1bScGL_37219a_210701_B10206r_210818001332.h5']"
      ]
     },
     "execution_count": 7,
     "metadata": {},
     "output_type": "execute_result"
    }
   ],
   "source": [
    "flist[:5]"
   ]
  },
  {
   "cell_type": "code",
   "execution_count": 8,
   "metadata": {},
   "outputs": [],
   "source": [
    "h5list = flist[3:]"
   ]
  },
  {
   "cell_type": "code",
   "execution_count": 9,
   "metadata": {},
   "outputs": [
    {
     "name": "stdout",
     "output_type": "stream",
     "text": [
      "654\n"
     ]
    }
   ],
   "source": [
    "numh5list = len(h5list)\n",
    "print(numh5list)"
   ]
  },
  {
   "cell_type": "code",
   "execution_count": 10,
   "metadata": {},
   "outputs": [
    {
     "data": {
      "text/plain": [
       "'/mnt/raid5/shong/oco2/oco2_L1bScGL_37218a_210701_B10206r_210817230313.h5'"
      ]
     },
     "execution_count": 10,
     "metadata": {},
     "output_type": "execute_result"
    }
   ],
   "source": [
    "h5dir+h5list[0]"
   ]
  },
  {
   "cell_type": "code",
   "execution_count": 11,
   "metadata": {},
   "outputs": [
    {
     "data": {
      "text/plain": [
       "True"
      ]
     },
     "execution_count": 11,
     "metadata": {},
     "output_type": "execute_result"
    }
   ],
   "source": [
    "h5py.is_hdf5(h5dir+h5list[0])"
   ]
  },
  {
   "cell_type": "code",
   "execution_count": 12,
   "metadata": {},
   "outputs": [],
   "source": [
    "try:\n",
    "    h5f = h5py.File(h5dir+h5list[0], \"r\")\n",
    "except IOError as e:\n",
    "    print(\"Error opening HDF5 file:\", str(e))\n",
    "# Don't forget f.close() when done! "
   ]
  },
  {
   "cell_type": "markdown",
   "metadata": {},
   "source": [
    "## Explore the `h5`"
   ]
  },
  {
   "cell_type": "code",
   "execution_count": 13,
   "metadata": {},
   "outputs": [
    {
     "data": {
      "text/plain": [
       "<KeysViewHDF5 ['Dimensions', 'FootprintGeometry', 'FrameConfiguration', 'FrameGeometry', 'FrameHeader', 'FrameTemperatures', 'InstrumentHeader', 'Metadata', 'RadianceClockingCorrection', 'Shapes', 'SliceMeasurements', 'SoundingGeometry', 'SoundingMeasurements', 'SpikeEOF']>"
      ]
     },
     "execution_count": 13,
     "metadata": {},
     "output_type": "execute_result"
    }
   ],
   "source": [
    "h5f.keys()"
   ]
  },
  {
   "cell_type": "code",
   "execution_count": 14,
   "metadata": {},
   "outputs": [
    {
     "name": "stdout",
     "output_type": "stream",
     "text": [
      "Group: Dimensions\n",
      "Group: FootprintGeometry\n",
      "Group: FrameConfiguration\n",
      "Group: FrameGeometry\n",
      "Group: FrameHeader\n",
      "Group: FrameTemperatures\n",
      "Group: InstrumentHeader\n",
      "Group: Metadata\n",
      "Group: RadianceClockingCorrection\n",
      "Group: Shapes\n",
      "Group: SliceMeasurements\n",
      "Group: SoundingGeometry\n",
      "Group: SoundingMeasurements\n",
      "Group: SpikeEOF\n"
     ]
    }
   ],
   "source": [
    "for key in h5f.keys():\n",
    "    item = h5f[key]\n",
    "    \n",
    "    if isinstance(item, h5py.Group):  # Check if it's a group\n",
    "        print(f\"Group: {key}\")\n",
    "    elif isinstance(item, h5py.Dataset):  # Check if it's a dataset\n",
    "        print(f\"Dataset: {key}, dtype: {item.dtype}\")\n",
    "    else:\n",
    "        print(f\"Unknown item: {key}\")"
   ]
  },
  {
   "cell_type": "code",
   "execution_count": 15,
   "metadata": {},
   "outputs": [
    {
     "data": {
      "text/plain": [
       "<KeysViewHDF5 ['footprint_altitude', 'footprint_altitude_uncert', 'footprint_aspect', 'footprint_azimuth', 'footprint_land_fraction', 'footprint_latitude', 'footprint_latitude_geoid', 'footprint_longitude', 'footprint_longitude_geoid', 'footprint_los_surface_bidirectional_angle', 'footprint_o2_qual_flag', 'footprint_plane_fit_quality', 'footprint_polarization_angle', 'footprint_slope', 'footprint_solar_azimuth', 'footprint_solar_surface_bidirectional_angle', 'footprint_solar_zenith', 'footprint_stokes_coefficients', 'footprint_strong_co2_qual_flag', 'footprint_surface_roughness', 'footprint_time_string', 'footprint_time_tai93', 'footprint_vertex_altitude', 'footprint_vertex_latitude', 'footprint_vertex_longitude', 'footprint_weak_co2_qual_flag', 'footprint_zenith']>"
      ]
     },
     "execution_count": 15,
     "metadata": {},
     "output_type": "execute_result"
    }
   ],
   "source": [
    "h5f['FootprintGeometry'].keys()"
   ]
  },
  {
   "cell_type": "code",
   "execution_count": 16,
   "metadata": {},
   "outputs": [
    {
     "name": "stdout",
     "output_type": "stream",
     "text": [
      "Dataset: footprint_altitude, dtype: float32, shape: (8878, 8, 3)\n",
      "Dataset: footprint_altitude_uncert, dtype: float32, shape: (8878, 8, 3)\n",
      "Dataset: footprint_aspect, dtype: float32, shape: (8878, 8, 3)\n",
      "Dataset: footprint_azimuth, dtype: float32, shape: (8878, 8, 3)\n",
      "Dataset: footprint_land_fraction, dtype: float32, shape: (8878, 8, 3)\n",
      "Dataset: footprint_latitude, dtype: float32, shape: (8878, 8, 3)\n",
      "Dataset: footprint_latitude_geoid, dtype: float32, shape: (8878, 8, 3)\n",
      "Dataset: footprint_longitude, dtype: float32, shape: (8878, 8, 3)\n",
      "Dataset: footprint_longitude_geoid, dtype: float32, shape: (8878, 8, 3)\n",
      "Dataset: footprint_los_surface_bidirectional_angle, dtype: float32, shape: (8878, 8, 3)\n",
      "Dataset: footprint_o2_qual_flag, dtype: uint16, shape: (8878, 8)\n",
      "Dataset: footprint_plane_fit_quality, dtype: float32, shape: (8878, 8, 3)\n",
      "Dataset: footprint_polarization_angle, dtype: float32, shape: (8878, 8, 3)\n",
      "Dataset: footprint_slope, dtype: float32, shape: (8878, 8, 3)\n",
      "Dataset: footprint_solar_azimuth, dtype: float32, shape: (8878, 8, 3)\n",
      "Dataset: footprint_solar_surface_bidirectional_angle, dtype: float32, shape: (8878, 8, 3)\n",
      "Dataset: footprint_solar_zenith, dtype: float32, shape: (8878, 8, 3)\n",
      "Dataset: footprint_stokes_coefficients, dtype: float32, shape: (8878, 8, 3, 4)\n",
      "Dataset: footprint_strong_co2_qual_flag, dtype: uint16, shape: (8878, 8)\n",
      "Dataset: footprint_surface_roughness, dtype: float32, shape: (8878, 8, 3)\n",
      "Dataset: footprint_time_string, dtype: |S25, shape: (8878, 8, 3)\n",
      "Dataset: footprint_time_tai93, dtype: float64, shape: (8878, 8, 3)\n",
      "Dataset: footprint_vertex_altitude, dtype: float32, shape: (8878, 8, 3, 4)\n",
      "Dataset: footprint_vertex_latitude, dtype: float32, shape: (8878, 8, 3, 4)\n",
      "Dataset: footprint_vertex_longitude, dtype: float32, shape: (8878, 8, 3, 4)\n",
      "Dataset: footprint_weak_co2_qual_flag, dtype: uint16, shape: (8878, 8)\n",
      "Dataset: footprint_zenith, dtype: float32, shape: (8878, 8, 3)\n"
     ]
    }
   ],
   "source": [
    "for key in h5f['FootprintGeometry'].keys():\n",
    "    item = h5f['FootprintGeometry'][key]\n",
    "    \n",
    "    if isinstance(item, h5py.Group):  # Check if it's a group\n",
    "        print(f\"Group: {key}\")\n",
    "    elif isinstance(item, h5py.Dataset):  # Check if it's a dataset\n",
    "        print(f\"Dataset: {key}, dtype: {item.dtype}, shape: {item.shape}\")\n",
    "    else:\n",
    "        print(f\"Unknown item: {key}\")"
   ]
  },
  {
   "cell_type": "code",
   "execution_count": 17,
   "metadata": {},
   "outputs": [],
   "source": [
    "#leng = h5f['FootprintGeometry/footprint_altitude'].shape[0]\n",
    "#print(leng)"
   ]
  },
  {
   "cell_type": "code",
   "execution_count": 18,
   "metadata": {},
   "outputs": [
    {
     "data": {
      "text/plain": [
       "<KeysViewHDF5 ['rad_continuum_o2', 'rad_continuum_strong_co2', 'rad_continuum_weak_co2', 'radiance_o2', 'radiance_strong_co2', 'radiance_weak_co2', 'snr_o2_l1b', 'snr_strong_co2_l1b', 'snr_weak_co2_l1b']>"
      ]
     },
     "execution_count": 18,
     "metadata": {},
     "output_type": "execute_result"
    }
   ],
   "source": [
    "h5f['SoundingMeasurements'].keys()"
   ]
  },
  {
   "cell_type": "code",
   "execution_count": 19,
   "metadata": {},
   "outputs": [
    {
     "name": "stdout",
     "output_type": "stream",
     "text": [
      "Dataset: rad_continuum_o2, dtype: float32, shape: (8878, 8)\n",
      "Dataset: rad_continuum_strong_co2, dtype: float32, shape: (8878, 8)\n",
      "Dataset: rad_continuum_weak_co2, dtype: float32, shape: (8878, 8)\n",
      "Dataset: radiance_o2, dtype: float32, shape: (8878, 8, 1016)\n",
      "Dataset: radiance_strong_co2, dtype: float32, shape: (8878, 8, 1016)\n",
      "Dataset: radiance_weak_co2, dtype: float32, shape: (8878, 8, 1016)\n",
      "Dataset: snr_o2_l1b, dtype: float32, shape: (8878, 8)\n",
      "Dataset: snr_strong_co2_l1b, dtype: float32, shape: (8878, 8)\n",
      "Dataset: snr_weak_co2_l1b, dtype: float32, shape: (8878, 8)\n"
     ]
    }
   ],
   "source": [
    "for key in h5f['SoundingMeasurements'].keys():\n",
    "    item = h5f['SoundingMeasurements'][key]\n",
    "    \n",
    "    if isinstance(item, h5py.Group):  # Check if it's a group\n",
    "        print(f\"Group: {key}\")\n",
    "    elif isinstance(item, h5py.Dataset):  # Check if it's a dataset\n",
    "        print(f\"Dataset: {key}, dtype: {item.dtype}, shape: {item.shape}\")\n",
    "    else:\n",
    "        print(f\"Unknown item: {key}\")"
   ]
  },
  {
   "cell_type": "markdown",
   "metadata": {},
   "source": [
    "## Save selected features as a parquet"
   ]
  },
  {
   "cell_type": "code",
   "execution_count": 20,
   "metadata": {},
   "outputs": [],
   "source": [
    "schema = T.StructType([\\\n",
    "                       T.StructField('filename',T.StringType(), True),\\\n",
    "                       T.StructField('channel_ind',T.IntegerType(), True),\\\n",
    "                       T.StructField('pix_ind',T.IntegerType(), True),\\\n",
    "                       T.StructField('row_ind',T.IntegerType(), True),\\\n",
    "                       T.StructField('altitude',T.FloatType(), True),\\\n",
    "                       T.StructField('longitude',T.FloatType(), True),\\\n",
    "                       T.StructField('latitude',T.FloatType(), True),\\\n",
    "                       T.StructField('aspect',T.FloatType(), True),\\\n",
    "                       T.StructField('slope',T.FloatType(), True),\\\n",
    "                       T.StructField('sol_az',T.FloatType(), True),\\\n",
    "                       T.StructField('sol_zn',T.FloatType(), True),\\\n",
    "                       T.StructField('fo_az',T.FloatType(), True),\\\n",
    "                       T.StructField('fo_zn',T.FloatType(), True),\\\n",
    "                       T.StructField('flag',T.IntegerType(), True),\\\n",
    "                       T.StructField('snr',T.FloatType(), True),\\\n",
    "                       T.StructField('continuum',T.FloatType(), True),\\\n",
    "                       T.StructField('time_str',T.StringType(), True),\\\n",
    "                       T.StructField('spectrum',T.ArrayType(T.DoubleType(),True), True)\\\n",
    "                      ])"
   ]
  },
  {
   "cell_type": "markdown",
   "metadata": {},
   "source": [
    "#### Extracting useful info "
   ]
  },
  {
   "cell_type": "code",
   "execution_count": 21,
   "metadata": {},
   "outputs": [
    {
     "name": "stdout",
     "output_type": "stream",
     "text": [
      "8878\n",
      "8\n",
      "3\n"
     ]
    }
   ],
   "source": [
    "numdata, numpix, numchannel = h5f['FootprintGeometry/footprint_altitude'].shape\n",
    "print(numdata)\n",
    "print(numpix)\n",
    "print(numchannel)"
   ]
  },
  {
   "cell_type": "markdown",
   "metadata": {},
   "source": [
    "> 8878 x 8 x 3 three dimesional data"
   ]
  },
  {
   "cell_type": "code",
   "execution_count": 22,
   "metadata": {},
   "outputs": [
    {
     "name": "stdout",
     "output_type": "stream",
     "text": [
      "CPU times: user 8.61 ms, sys: 697 µs, total: 9.3 ms\n",
      "Wall time: 9.3 ms\n"
     ]
    }
   ],
   "source": [
    "%%time\n",
    "filename_list = [h5list[0] for i in range(numdata*numpix*numchannel)] "
   ]
  },
  {
   "cell_type": "code",
   "execution_count": 23,
   "metadata": {},
   "outputs": [
    {
     "data": {
      "text/plain": [
       "213072"
      ]
     },
     "execution_count": 23,
     "metadata": {},
     "output_type": "execute_result"
    }
   ],
   "source": [
    "len(filename_list)"
   ]
  },
  {
   "cell_type": "code",
   "execution_count": 24,
   "metadata": {},
   "outputs": [],
   "source": [
    "channel_ind_list =[]\n",
    "pixel_ind_list =[]\n",
    "row_ind_list =[]\n",
    "flag_list =[]\n",
    "snr_list = []\n",
    "cont_list= []\n",
    "time_list=[]\n",
    "times =[]"
   ]
  },
  {
   "cell_type": "code",
   "execution_count": 25,
   "metadata": {},
   "outputs": [],
   "source": [
    "####################### generate indices\n",
    "for k in range(numdata) :\n",
    "        for j in range(numpix)   :\n",
    "            for i in range(numchannel):\n",
    "                channel_ind_list.append(i)\n",
    "                pixel_ind_list.append(j)\n",
    "                row_ind_list.append(k)"
   ]
  },
  {
   "cell_type": "code",
   "execution_count": 26,
   "metadata": {},
   "outputs": [],
   "source": [
    "################## General info \n",
    "alti_list = h5f['FootprintGeometry/footprint_altitude'][:,:,:].flatten().tolist()\n",
    "lon_list = h5f['FootprintGeometry/footprint_longitude'][:,:,:].flatten().tolist()\n",
    "lat_list = h5f['FootprintGeometry/footprint_latitude'][:,:,:].flatten().tolist()\n",
    "\n",
    "aspect_list = h5f['FootprintGeometry/footprint_aspect'][:,:,:].flatten().tolist()\n",
    "slope_list  = h5f['FootprintGeometry/footprint_slope'][:,:,:].flatten().tolist()\n",
    "surf_list   = h5f['FootprintGeometry/footprint_surface_roughness'][:,:,:].flatten().tolist()\n",
    "\n",
    "sol_az_list = h5f['FootprintGeometry/footprint_solar_azimuth'][:,:,:].flatten().tolist()\n",
    "sol_zn_list = h5f['FootprintGeometry/footprint_solar_zenith'][:,:,:].flatten().tolist()\n",
    "fo_az_list  = h5f['FootprintGeometry/footprint_azimuth'][:,:,:].flatten().tolist()\n",
    "fo_zn_list  = h5f['FootprintGeometry/footprint_zenith'][:,:,:].flatten().tolist()\n",
    "times       = h5f['FootprintGeometry/footprint_time_string'][:,:,:].flatten().tolist()\n",
    "time_list   = [time.decode() for time in times]"
   ]
  },
  {
   "cell_type": "code",
   "execution_count": 27,
   "metadata": {},
   "outputs": [],
   "source": [
    "####################### merge info\n",
    "o2_flg = h5f['FootprintGeometry/footprint_o2_qual_flag'][:,:].flatten().tolist()\n",
    "snr_o2 = h5f['/SoundingMeasurements/snr_o2_l1b'][:,:].flatten().tolist()\n",
    "o2_cont= h5f['/SoundingMeasurements/rad_continuum_o2'][:,:].flatten().tolist()\n",
    "flag_list.append(o2_flg)\n",
    "snr_list.append(snr_o2)\n",
    "cont_list.append(o2_cont)\n",
    "\n",
    "wco2_flg = h5f['FootprintGeometry/footprint_weak_co2_qual_flag'][:,:].flatten().tolist()\n",
    "snr_wco2 = h5f['/SoundingMeasurements/snr_weak_co2_l1b'][:,:].flatten().tolist()\n",
    "wco2_cont= h5f['/SoundingMeasurements/rad_continuum_weak_co2'][:,:].flatten().tolist()\n",
    "flag_list.append(wco2_flg)\n",
    "snr_list.append(snr_wco2)\n",
    "cont_list.append(wco2_cont)\n",
    "\n",
    "sco2_flg = h5f['FootprintGeometry/footprint_strong_co2_qual_flag'][:,:].flatten().tolist()\n",
    "snr_sco2 = h5f['/SoundingMeasurements/snr_strong_co2_l1b'][:,:].flatten().tolist()\n",
    "sco2_cont= h5f['/SoundingMeasurements/rad_continuum_strong_co2'][:,:].flatten().tolist()\n",
    "flag_list.append(sco2_flg)\n",
    "snr_list.append(snr_sco2)\n",
    "cont_list.append(sco2_cont)\n",
    "\n",
    "flag_list =reduce(operator.concat, flag_list)\n",
    "snr_list =reduce(operator.concat, snr_list)\n",
    "cont_list =reduce(operator.concat, cont_list)"
   ]
  },
  {
   "cell_type": "code",
   "execution_count": 28,
   "metadata": {},
   "outputs": [],
   "source": [
    "################## Spectra info\n",
    "o2   = h5f['/SoundingMeasurements/radiance_o2'][:,:,:].reshape(-1,1016).tolist()\n",
    "wco2 = h5f['/SoundingMeasurements/radiance_weak_co2'][:,:,:].reshape(-1,1016).tolist()\n",
    "sco2 = h5f['/SoundingMeasurements/radiance_strong_co2'][:,:,:].reshape(-1,1016).tolist()"
   ]
  },
  {
   "cell_type": "code",
   "execution_count": 29,
   "metadata": {},
   "outputs": [],
   "source": [
    "temp_spec = list(map(list, zip(o2, wco2, sco2)))\n",
    "all_spec_list = [x for sublist in temp_spec for x in sublist]"
   ]
  },
  {
   "cell_type": "markdown",
   "metadata": {},
   "source": [
    "#### Wrap up the extracted info "
   ]
  },
  {
   "cell_type": "code",
   "execution_count": 30,
   "metadata": {},
   "outputs": [
    {
     "name": "stdout",
     "output_type": "stream",
     "text": [
      "CPU times: user 51.2 s, sys: 806 ms, total: 52 s\n",
      "Wall time: 53.8 s\n"
     ]
    }
   ],
   "source": [
    "%%time\n",
    "sparkdf = spark.createDataFrame(zip(filename_list,channel_ind_list,pixel_ind_list,row_ind_list,\\\n",
    "                                    alti_list,lon_list,lat_list,aspect_list,slope_list, \\\n",
    "                                    sol_az_list,sol_zn_list,fo_az_list,fo_zn_list, \\\n",
    "                                    flag_list,snr_list,cont_list,time_list,all_spec_list),schema)"
   ]
  },
  {
   "cell_type": "code",
   "execution_count": 31,
   "metadata": {},
   "outputs": [],
   "source": [
    "outdir = 'hdfs://spark00:54310/user/shong/data/parquet/oco2/'"
   ]
  },
  {
   "cell_type": "code",
   "execution_count": 32,
   "metadata": {},
   "outputs": [
    {
     "name": "stdout",
     "output_type": "stream",
     "text": [
      "hdfs://spark00:54310/user/shong/data/parquet/oco2/oco2_L1bScGL_37218a_210701_B10206r_210817230313.parquet.snappy\n"
     ]
    }
   ],
   "source": [
    "outname = outdir+h5list[0].replace(\"h5\",\"parquet.snappy\")\n",
    "print(outname)"
   ]
  },
  {
   "cell_type": "code",
   "execution_count": 33,
   "metadata": {},
   "outputs": [
    {
     "name": "stdout",
     "output_type": "stream",
     "text": [
      "CPU times: user 8.2 ms, sys: 3.22 ms, total: 11.4 ms\n",
      "Wall time: 28.4 s\n"
     ]
    }
   ],
   "source": [
    "%%time\n",
    "sparkdf.write.option(\"compression\", \"snappy\") \\\n",
    "    .mode(\"overwrite\") \\\n",
    "    .save(outname)"
   ]
  },
  {
   "cell_type": "markdown",
   "metadata": {},
   "source": [
    "### Check up the parquet"
   ]
  },
  {
   "cell_type": "code",
   "execution_count": 34,
   "metadata": {},
   "outputs": [
    {
     "name": "stdout",
     "output_type": "stream",
     "text": [
      "root\n",
      " |-- filename: string (nullable = true)\n",
      " |-- channel_ind: integer (nullable = true)\n",
      " |-- pix_ind: integer (nullable = true)\n",
      " |-- row_ind: integer (nullable = true)\n",
      " |-- altitude: float (nullable = true)\n",
      " |-- longitude: float (nullable = true)\n",
      " |-- latitude: float (nullable = true)\n",
      " |-- aspect: float (nullable = true)\n",
      " |-- slope: float (nullable = true)\n",
      " |-- sol_az: float (nullable = true)\n",
      " |-- sol_zn: float (nullable = true)\n",
      " |-- fo_az: float (nullable = true)\n",
      " |-- fo_zn: float (nullable = true)\n",
      " |-- flag: integer (nullable = true)\n",
      " |-- snr: float (nullable = true)\n",
      " |-- continuum: float (nullable = true)\n",
      " |-- time_str: string (nullable = true)\n",
      " |-- spectrum: array (nullable = true)\n",
      " |    |-- element: double (containsNull = true)\n",
      "\n"
     ]
    }
   ],
   "source": [
    "sparkdf.printSchema()"
   ]
  },
  {
   "cell_type": "code",
   "execution_count": 35,
   "metadata": {},
   "outputs": [
    {
     "name": "stdout",
     "output_type": "stream",
     "text": [
      "213072\n",
      "CPU times: user 8.66 ms, sys: 140 µs, total: 8.8 ms\n",
      "Wall time: 18.5 s\n"
     ]
    }
   ],
   "source": [
    "%%time\n",
    "print(sparkdf.count())"
   ]
  },
  {
   "cell_type": "code",
   "execution_count": 36,
   "metadata": {},
   "outputs": [
    {
     "name": "stdout",
     "output_type": "stream",
     "text": [
      "CPU times: user 13.8 ms, sys: 4.38 ms, total: 18.2 ms\n",
      "Wall time: 18.2 s\n"
     ]
    },
    {
     "data": {
      "text/html": [
       "<div>\n",
       "<style scoped>\n",
       "    .dataframe tbody tr th:only-of-type {\n",
       "        vertical-align: middle;\n",
       "    }\n",
       "\n",
       "    .dataframe tbody tr th {\n",
       "        vertical-align: top;\n",
       "    }\n",
       "\n",
       "    .dataframe thead th {\n",
       "        text-align: right;\n",
       "    }\n",
       "</style>\n",
       "<table border=\"1\" class=\"dataframe\">\n",
       "  <thead>\n",
       "    <tr style=\"text-align: right;\">\n",
       "      <th></th>\n",
       "      <th>0</th>\n",
       "      <th>1</th>\n",
       "    </tr>\n",
       "  </thead>\n",
       "  <tbody>\n",
       "    <tr>\n",
       "      <th>filename</th>\n",
       "      <td>oco2_L1bScGL_37218a_210701_B10206r_21081723031...</td>\n",
       "      <td>oco2_L1bScGL_37218a_210701_B10206r_21081723031...</td>\n",
       "    </tr>\n",
       "    <tr>\n",
       "      <th>channel_ind</th>\n",
       "      <td>0</td>\n",
       "      <td>1</td>\n",
       "    </tr>\n",
       "    <tr>\n",
       "      <th>pix_ind</th>\n",
       "      <td>0</td>\n",
       "      <td>0</td>\n",
       "    </tr>\n",
       "    <tr>\n",
       "      <th>row_ind</th>\n",
       "      <td>3712</td>\n",
       "      <td>3712</td>\n",
       "    </tr>\n",
       "    <tr>\n",
       "      <th>altitude</th>\n",
       "      <td>0.0</td>\n",
       "      <td>0.0</td>\n",
       "    </tr>\n",
       "    <tr>\n",
       "      <th>longitude</th>\n",
       "      <td>-172.583115</td>\n",
       "      <td>-172.584061</td>\n",
       "    </tr>\n",
       "    <tr>\n",
       "      <th>latitude</th>\n",
       "      <td>13.294443</td>\n",
       "      <td>13.2956</td>\n",
       "    </tr>\n",
       "    <tr>\n",
       "      <th>aspect</th>\n",
       "      <td>0.0</td>\n",
       "      <td>0.0</td>\n",
       "    </tr>\n",
       "    <tr>\n",
       "      <th>slope</th>\n",
       "      <td>0.0</td>\n",
       "      <td>0.0</td>\n",
       "    </tr>\n",
       "    <tr>\n",
       "      <th>sol_az</th>\n",
       "      <td>300.463837</td>\n",
       "      <td>300.462219</td>\n",
       "    </tr>\n",
       "    <tr>\n",
       "      <th>sol_zn</th>\n",
       "      <td>21.131536</td>\n",
       "      <td>21.130169</td>\n",
       "    </tr>\n",
       "    <tr>\n",
       "      <th>fo_az</th>\n",
       "      <td>122.311935</td>\n",
       "      <td>122.323051</td>\n",
       "    </tr>\n",
       "    <tr>\n",
       "      <th>fo_zn</th>\n",
       "      <td>16.522121</td>\n",
       "      <td>16.533789</td>\n",
       "    </tr>\n",
       "    <tr>\n",
       "      <th>flag</th>\n",
       "      <td>0</td>\n",
       "      <td>0</td>\n",
       "    </tr>\n",
       "    <tr>\n",
       "      <th>snr</th>\n",
       "      <td>461.825684</td>\n",
       "      <td>482.42688</td>\n",
       "    </tr>\n",
       "    <tr>\n",
       "      <th>continuum</th>\n",
       "      <td>34969402172439003136.0</td>\n",
       "      <td>26148713075117654016.0</td>\n",
       "    </tr>\n",
       "    <tr>\n",
       "      <th>time_str</th>\n",
       "      <td>2021-07-01T00:53:08.563Z</td>\n",
       "      <td>2021-07-01T00:53:08.567Z</td>\n",
       "    </tr>\n",
       "    <tr>\n",
       "      <th>spectrum</th>\n",
       "      <td>[1.096540659396819e+20, 1.0922081437787305e+20...</td>\n",
       "      <td>[3.7989661657893175e+19, 3.7466593190234554e+1...</td>\n",
       "    </tr>\n",
       "  </tbody>\n",
       "</table>\n",
       "</div>"
      ],
      "text/plain": [
       "                                                             0  \\\n",
       "filename     oco2_L1bScGL_37218a_210701_B10206r_21081723031...   \n",
       "channel_ind                                                  0   \n",
       "pix_ind                                                      0   \n",
       "row_ind                                                   3712   \n",
       "altitude                                                   0.0   \n",
       "longitude                                          -172.583115   \n",
       "latitude                                             13.294443   \n",
       "aspect                                                     0.0   \n",
       "slope                                                      0.0   \n",
       "sol_az                                              300.463837   \n",
       "sol_zn                                               21.131536   \n",
       "fo_az                                               122.311935   \n",
       "fo_zn                                                16.522121   \n",
       "flag                                                         0   \n",
       "snr                                                 461.825684   \n",
       "continuum                               34969402172439003136.0   \n",
       "time_str                              2021-07-01T00:53:08.563Z   \n",
       "spectrum     [1.096540659396819e+20, 1.0922081437787305e+20...   \n",
       "\n",
       "                                                             1  \n",
       "filename     oco2_L1bScGL_37218a_210701_B10206r_21081723031...  \n",
       "channel_ind                                                  1  \n",
       "pix_ind                                                      0  \n",
       "row_ind                                                   3712  \n",
       "altitude                                                   0.0  \n",
       "longitude                                          -172.584061  \n",
       "latitude                                               13.2956  \n",
       "aspect                                                     0.0  \n",
       "slope                                                      0.0  \n",
       "sol_az                                              300.462219  \n",
       "sol_zn                                               21.130169  \n",
       "fo_az                                               122.323051  \n",
       "fo_zn                                                16.533789  \n",
       "flag                                                         0  \n",
       "snr                                                  482.42688  \n",
       "continuum                               26148713075117654016.0  \n",
       "time_str                              2021-07-01T00:53:08.567Z  \n",
       "spectrum     [3.7989661657893175e+19, 3.7466593190234554e+1...  "
      ]
     },
     "execution_count": 36,
     "metadata": {},
     "output_type": "execute_result"
    }
   ],
   "source": [
    "%%time\n",
    "sparkdf.limit(2).toPandas().transpose()"
   ]
  },
  {
   "cell_type": "code",
   "execution_count": 39,
   "metadata": {},
   "outputs": [
    {
     "name": "stdout",
     "output_type": "stream",
     "text": [
      "+--------+----------+----------+------+-----+---------+--------+---------+---------+----+---------+------------+\n",
      "|altitude| longitude|  latitude|aspect|slope|   sol_az|  sol_zn|    fo_az|    fo_zn|flag|      snr|   continuum|\n",
      "+--------+----------+----------+------+-----+---------+--------+---------+---------+----+---------+------------+\n",
      "|     0.0|-157.18796|-54.093674|   0.0|  0.0| 332.2954|81.40759|152.66422|59.156822|   0|345.16867| 8.220378E19|\n",
      "|     0.0|-157.19017|-54.089634|   0.0|  0.0| 332.2971|81.40341| 152.6702|59.171177|   0|314.94962| 6.252769E19|\n",
      "|     0.0|-157.18686|-54.090748|   0.0|  0.0|332.29425|81.40529|152.67673| 59.16697|   0|434.39273|1.1830203E20|\n",
      "+--------+----------+----------+------+-----+---------+--------+---------+---------+----+---------+------------+\n",
      "only showing top 3 rows\n",
      "\n"
     ]
    }
   ],
   "source": [
    "sparkdf.select(['altitude','longitude','latitude','aspect','slope','sol_az','sol_zn', \\\n",
    "                'fo_az','fo_zn','flag','snr','continuum']).show(3)"
   ]
  },
  {
   "cell_type": "code",
   "execution_count": 40,
   "metadata": {},
   "outputs": [
    {
     "name": "stdout",
     "output_type": "stream",
     "text": [
      "CPU times: user 14.1 ms, sys: 4.66 ms, total: 18.8 ms\n",
      "Wall time: 18.8 s\n"
     ]
    },
    {
     "data": {
      "text/html": [
       "<div>\n",
       "<style scoped>\n",
       "    .dataframe tbody tr th:only-of-type {\n",
       "        vertical-align: middle;\n",
       "    }\n",
       "\n",
       "    .dataframe tbody tr th {\n",
       "        vertical-align: top;\n",
       "    }\n",
       "\n",
       "    .dataframe thead th {\n",
       "        text-align: right;\n",
       "    }\n",
       "</style>\n",
       "<table border=\"1\" class=\"dataframe\">\n",
       "  <thead>\n",
       "    <tr style=\"text-align: right;\">\n",
       "      <th>summary</th>\n",
       "      <th>count</th>\n",
       "      <th>mean</th>\n",
       "      <th>stddev</th>\n",
       "      <th>min</th>\n",
       "      <th>max</th>\n",
       "    </tr>\n",
       "  </thead>\n",
       "  <tbody>\n",
       "    <tr>\n",
       "      <th>altitude</th>\n",
       "      <td>213072</td>\n",
       "      <td>-3916.6610661485047</td>\n",
       "      <td>62628.406981576714</td>\n",
       "      <td>-999999.0</td>\n",
       "      <td>1069.8132</td>\n",
       "    </tr>\n",
       "    <tr>\n",
       "      <th>longitude</th>\n",
       "      <td>213072</td>\n",
       "      <td>-43.4179519220024</td>\n",
       "      <td>150.52536453702382</td>\n",
       "      <td>-179.99902</td>\n",
       "      <td>179.99986</td>\n",
       "    </tr>\n",
       "    <tr>\n",
       "      <th>latitude</th>\n",
       "      <td>213072</td>\n",
       "      <td>23.504268270516295</td>\n",
       "      <td>42.67004694109275</td>\n",
       "      <td>-54.093674</td>\n",
       "      <td>79.85018</td>\n",
       "    </tr>\n",
       "    <tr>\n",
       "      <th>aspect</th>\n",
       "      <td>213072</td>\n",
       "      <td>-3922.7009036291597</td>\n",
       "      <td>62627.96895201564</td>\n",
       "      <td>-999999.0</td>\n",
       "      <td>359.98965</td>\n",
       "    </tr>\n",
       "    <tr>\n",
       "      <th>slope</th>\n",
       "      <td>213072</td>\n",
       "      <td>-3937.4064771711537</td>\n",
       "      <td>62627.018680349945</td>\n",
       "      <td>-999999.0</td>\n",
       "      <td>88.91238</td>\n",
       "    </tr>\n",
       "    <tr>\n",
       "      <th>sol_az</th>\n",
       "      <td>213072</td>\n",
       "      <td>240.77608360943069</td>\n",
       "      <td>90.1262493103798</td>\n",
       "      <td>47.548046</td>\n",
       "      <td>333.2926</td>\n",
       "    </tr>\n",
       "    <tr>\n",
       "      <th>sol_zn</th>\n",
       "      <td>213072</td>\n",
       "      <td>44.826667950095526</td>\n",
       "      <td>20.06552954185553</td>\n",
       "      <td>16.159397</td>\n",
       "      <td>81.40759</td>\n",
       "    </tr>\n",
       "    <tr>\n",
       "      <th>fo_az</th>\n",
       "      <td>213072</td>\n",
       "      <td>152.3926359179914</td>\n",
       "      <td>98.19703122966196</td>\n",
       "      <td>1.3626867E-4</td>\n",
       "      <td>359.9971</td>\n",
       "    </tr>\n",
       "    <tr>\n",
       "      <th>fo_zn</th>\n",
       "      <td>213072</td>\n",
       "      <td>34.759277050122044</td>\n",
       "      <td>15.077191883426977</td>\n",
       "      <td>12.505527</td>\n",
       "      <td>60.078445</td>\n",
       "    </tr>\n",
       "    <tr>\n",
       "      <th>flag</th>\n",
       "      <td>213072</td>\n",
       "      <td>1.183862731846512</td>\n",
       "      <td>17.348864907539664</td>\n",
       "      <td>0</td>\n",
       "      <td>256</td>\n",
       "    </tr>\n",
       "    <tr>\n",
       "      <th>snr</th>\n",
       "      <td>213072</td>\n",
       "      <td>326.6160712231698</td>\n",
       "      <td>15017.315941634535</td>\n",
       "      <td>-999999.0</td>\n",
       "      <td>1341.8485</td>\n",
       "    </tr>\n",
       "    <tr>\n",
       "      <th>continuum</th>\n",
       "      <td>213072</td>\n",
       "      <td>9.33120878986887E19</td>\n",
       "      <td>1.0081263920563123E20</td>\n",
       "      <td>-999999.0</td>\n",
       "      <td>6.317784E20</td>\n",
       "    </tr>\n",
       "  </tbody>\n",
       "</table>\n",
       "</div>"
      ],
      "text/plain": [
       "summary     count                 mean                 stddev           min  \\\n",
       "altitude   213072  -3916.6610661485047     62628.406981576714     -999999.0   \n",
       "longitude  213072    -43.4179519220024     150.52536453702382    -179.99902   \n",
       "latitude   213072   23.504268270516295      42.67004694109275    -54.093674   \n",
       "aspect     213072  -3922.7009036291597      62627.96895201564     -999999.0   \n",
       "slope      213072  -3937.4064771711537     62627.018680349945     -999999.0   \n",
       "sol_az     213072   240.77608360943069       90.1262493103798     47.548046   \n",
       "sol_zn     213072   44.826667950095526      20.06552954185553     16.159397   \n",
       "fo_az      213072    152.3926359179914      98.19703122966196  1.3626867E-4   \n",
       "fo_zn      213072   34.759277050122044     15.077191883426977     12.505527   \n",
       "flag       213072    1.183862731846512     17.348864907539664             0   \n",
       "snr        213072    326.6160712231698     15017.315941634535     -999999.0   \n",
       "continuum  213072  9.33120878986887E19  1.0081263920563123E20     -999999.0   \n",
       "\n",
       "summary            max  \n",
       "altitude     1069.8132  \n",
       "longitude    179.99986  \n",
       "latitude      79.85018  \n",
       "aspect       359.98965  \n",
       "slope         88.91238  \n",
       "sol_az        333.2926  \n",
       "sol_zn        81.40759  \n",
       "fo_az         359.9971  \n",
       "fo_zn        60.078445  \n",
       "flag               256  \n",
       "snr          1341.8485  \n",
       "continuum  6.317784E20  "
      ]
     },
     "execution_count": 40,
     "metadata": {},
     "output_type": "execute_result"
    }
   ],
   "source": [
    "%%time\n",
    "sparkdf.select(['altitude','longitude','latitude','aspect','slope','sol_az','sol_zn', \\\n",
    "                'fo_az','fo_zn','flag','snr','continuum']).describe().toPandas().set_index('summary').transpose()"
   ]
  },
  {
   "cell_type": "code",
   "execution_count": null,
   "metadata": {},
   "outputs": [],
   "source": []
  }
 ],
 "metadata": {
  "kernelspec": {
   "display_name": "Python 3",
   "language": "python",
   "name": "python3"
  },
  "language_info": {
   "codemirror_mode": {
    "name": "ipython",
    "version": 3
   },
   "file_extension": ".py",
   "mimetype": "text/x-python",
   "name": "python",
   "nbconvert_exporter": "python",
   "pygments_lexer": "ipython3",
   "version": "3.8.5"
  }
 },
 "nbformat": 4,
 "nbformat_minor": 4
}
