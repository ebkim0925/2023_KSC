{
 "cells": [
  {
   "cell_type": "markdown",
   "metadata": {},
   "source": [
    "# OCO2 and TCCON Data Processing Using PySpark\n",
    "\n",
    "- TCCON: http://www.tccon.caltech.edu/\n",
    "- OCO2: https://ocov2.jpl.nasa.gov/\n",
    "\n",
    "> We have extracted features as parquet files from oco2 hdf5 dataset. <br> \n",
    "We will cross-match these oco2 data with tccon measurements to create a training sample for ML. "
   ]
  },
  {
   "cell_type": "markdown",
   "metadata": {},
   "source": [
    "## Import Basic Libraries"
   ]
  },
  {
   "cell_type": "code",
   "execution_count": 1,
   "metadata": {},
   "outputs": [],
   "source": [
    "import numpy as np\n",
    "import pandas as pd\n",
    "import glob\n",
    "import sys\n",
    "import h5py\n",
    "#from netCDF4 import Dataset\n",
    "from datetime import datetime\n",
    "from tqdm.notebook import tqdm\n",
    "import matplotlib.pyplot as plt\n",
    "from scipy.spatial import cKDTree\n",
    "\n",
    "import pyarrow as pa\n",
    "import pyarrow.parquet as pq\n",
    "\n",
    "from functools import reduce\n",
    "import operator\n",
    "import gc"
   ]
  },
  {
   "cell_type": "code",
   "execution_count": 2,
   "metadata": {},
   "outputs": [],
   "source": [
    "# plot settings\n",
    "plt.rc('font', family='serif') \n",
    "plt.rc('font', serif='Times New Roman') \n",
    "plt.rcParams.update({'font.size': 16})\n",
    "plt.rcParams['mathtext.fontset'] = 'stix'"
   ]
  },
  {
   "cell_type": "markdown",
   "metadata": {},
   "source": [
    "## Define SparkSession and sparkContext"
   ]
  },
  {
   "cell_type": "code",
   "execution_count": 3,
   "metadata": {},
   "outputs": [],
   "source": [
    "# PySpark packages\n",
    "from pyspark import SparkContext   \n",
    "from pyspark.sql import SparkSession\n",
    "\n",
    "import pyspark.sql.functions as F\n",
    "import pyspark.sql.types as T\n",
    "from pyspark import Row\n",
    "from pyspark.sql.window import Window as W\n",
    "\n",
    "\n",
    "spark = SparkSession.builder \\\n",
    "    .master(\"yarn\") \\\n",
    "    .appName(\"spark-shell\") \\\n",
    "    .config(\"spark.driver.maxResultSize\", \"32g\") \\\n",
    "    .config(\"spark.driver.memory\", \"32g\") \\\n",
    "    .config(\"spark.executor.memory\", \"14g\") \\\n",
    "    .config(\"spark.executor.cores\", \"2\") \\\n",
    "    .config(\"spark.executor.instances\", \"50\") \\\n",
    "    .getOrCreate()\n",
    "\n",
    "\n",
    "sc = spark.sparkContext\n",
    "sc.setCheckpointDir(\"hdfs://spark00:54310/tmp/checkpoints\")\n",
    "\n",
    "spark.conf.set(\"spark.sql.debug.maxToStringFields\", 500)\n",
    "spark.conf.set(\"spark.sql.execution.arrow.pyspark.enabled\", \"true\")"
   ]
  },
  {
   "cell_type": "code",
   "execution_count": 4,
   "metadata": {},
   "outputs": [
    {
     "data": {
      "text/plain": [
       "[('spark.driver.port', '44745'),\n",
       " ('spark.org.apache.hadoop.yarn.server.webproxy.amfilter.AmIpFilter.param.PROXY_URI_BASES',\n",
       "  'http://spark03:8088/proxy/application_1691388031001_1540'),\n",
       " ('spark.driver.memory', '32g'),\n",
       " ('spark.driver.appUIAddress', 'http://spark00:4040'),\n",
       " ('spark.app.id', 'application_1691388031001_1540'),\n",
       " ('spark.driver.maxResultSize', '32g'),\n",
       " ('spark.org.apache.hadoop.yarn.server.webproxy.amfilter.AmIpFilter.param.PROXY_HOSTS',\n",
       "  'spark03'),\n",
       " ('spark.master', 'yarn'),\n",
       " ('spark.executor.id', 'driver'),\n",
       " ('spark.app.startTime', '1692174695200')]"
      ]
     },
     "execution_count": 4,
     "metadata": {},
     "output_type": "execute_result"
    }
   ],
   "source": [
    "sc.getConf().getAll()[:10]"
   ]
  },
  {
   "cell_type": "markdown",
   "metadata": {},
   "source": [
    "## [1] Read All Parquets "
   ]
  },
  {
   "cell_type": "code",
   "execution_count": 5,
   "metadata": {},
   "outputs": [],
   "source": [
    "import pyarrow as pa\n",
    "import pyarrow.parquet as pq"
   ]
  },
  {
   "cell_type": "markdown",
   "metadata": {},
   "source": [
    "#### L1 Data"
   ]
  },
  {
   "cell_type": "code",
   "execution_count": 6,
   "metadata": {},
   "outputs": [],
   "source": [
    "filepath = \\\n",
    "\"hdfs://spark00:54310/user/ebkim/data/parquet/oco2/\""
   ]
  },
  {
   "cell_type": "code",
   "execution_count": 7,
   "metadata": {},
   "outputs": [
    {
     "name": "stdout",
     "output_type": "stream",
     "text": [
      "CPU times: user 1.04 ms, sys: 1.34 ms, total: 2.38 ms\n",
      "Wall time: 3.87 s\n"
     ]
    }
   ],
   "source": [
    "%%time\n",
    "# Read all parquets in the directory\n",
    "onedf = spark.read.option(\"header\",\"true\").option(\"recursiveFileLookup\",\"true\").parquet(filepath)"
   ]
  },
  {
   "cell_type": "markdown",
   "metadata": {},
   "source": [
    "> The total size of L1 dataset is 479.1 GB of the oco2 measurements in July 2021 "
   ]
  },
  {
   "cell_type": "markdown",
   "metadata": {},
   "source": [
    "#### L2 Data"
   ]
  },
  {
   "cell_type": "code",
   "execution_count": 8,
   "metadata": {},
   "outputs": [],
   "source": [
    "filepath2 = \\\n",
    "\"hdfs://spark00:54310/user/ebkim/data/parquet/oco2L2/\""
   ]
  },
  {
   "cell_type": "code",
   "execution_count": 9,
   "metadata": {},
   "outputs": [
    {
     "name": "stdout",
     "output_type": "stream",
     "text": [
      "CPU times: user 1.24 ms, sys: 0 ns, total: 1.24 ms\n",
      "Wall time: 1.56 s\n"
     ]
    }
   ],
   "source": [
    "%%time\n",
    "# Read all parquets in the directory\n",
    "twodf = spark.read.option(\"header\",\"true\").option(\"recursiveFileLookup\",\"true\").parquet(filepath2)"
   ]
  },
  {
   "cell_type": "markdown",
   "metadata": {},
   "source": [
    "> The total size of L2 dataset is 296.9 MB of the oco2 measurements in July 2021"
   ]
  },
  {
   "cell_type": "markdown",
   "metadata": {},
   "source": [
    "## [2] Explore the data"
   ]
  },
  {
   "cell_type": "markdown",
   "metadata": {},
   "source": [
    "#### L1 Schema"
   ]
  },
  {
   "cell_type": "code",
   "execution_count": 10,
   "metadata": {},
   "outputs": [
    {
     "name": "stdout",
     "output_type": "stream",
     "text": [
      "root\n",
      " |-- filename: string (nullable = true)\n",
      " |-- channel_ind: integer (nullable = true)\n",
      " |-- pix_ind: integer (nullable = true)\n",
      " |-- row_ind: integer (nullable = true)\n",
      " |-- altitude: float (nullable = true)\n",
      " |-- longitude: float (nullable = true)\n",
      " |-- latitude: float (nullable = true)\n",
      " |-- aspect: float (nullable = true)\n",
      " |-- slope: float (nullable = true)\n",
      " |-- sol_az: float (nullable = true)\n",
      " |-- sol_zn: float (nullable = true)\n",
      " |-- fo_az: float (nullable = true)\n",
      " |-- fo_zn: float (nullable = true)\n",
      " |-- flag: integer (nullable = true)\n",
      " |-- snr: float (nullable = true)\n",
      " |-- continuum: float (nullable = true)\n",
      " |-- time_str: string (nullable = true)\n",
      " |-- spectrum: array (nullable = true)\n",
      " |    |-- element: double (containsNull = true)\n",
      "\n"
     ]
    }
   ],
   "source": [
    "onedf.printSchema()"
   ]
  },
  {
   "cell_type": "markdown",
   "metadata": {},
   "source": [
    "#### L2 Schema"
   ]
  },
  {
   "cell_type": "code",
   "execution_count": 11,
   "metadata": {},
   "outputs": [
    {
     "name": "stdout",
     "output_type": "stream",
     "text": [
      "root\n",
      " |-- filename: string (nullable = true)\n",
      " |-- altitude: float (nullable = true)\n",
      " |-- longitude: float (nullable = true)\n",
      " |-- latitude: float (nullable = true)\n",
      " |-- aspect: float (nullable = true)\n",
      " |-- slope: float (nullable = true)\n",
      " |-- sol_az: float (nullable = true)\n",
      " |-- sol_zn: float (nullable = true)\n",
      " |-- xco2: float (nullable = true)\n",
      " |-- time_str: string (nullable = true)\n",
      "\n"
     ]
    }
   ],
   "source": [
    "twodf.printSchema()"
   ]
  },
  {
   "cell_type": "code",
   "execution_count": 12,
   "metadata": {},
   "outputs": [
    {
     "name": "stdout",
     "output_type": "stream",
     "text": [
      "['altitude', 'longitude', 'latitude', 'aspect', 'slope', 'sol_az', 'sol_zn', 'time_str', 'spectrum']\n"
     ]
    }
   ],
   "source": [
    "someonecolumns = onedf.columns[4:11]+onedf.columns[16:18]\n",
    "print(someonecolumns)"
   ]
  },
  {
   "cell_type": "code",
   "execution_count": 13,
   "metadata": {},
   "outputs": [
    {
     "name": "stdout",
     "output_type": "stream",
     "text": [
      "+--------+----------+----------+------+-----+---------+--------+--------------------+--------------------+\n",
      "|altitude| longitude|  latitude|aspect|slope|   sol_az|  sol_zn|            time_str|            spectrum|\n",
      "+--------+----------+----------+------+-----+---------+--------+--------------------+--------------------+\n",
      "|     0.0|-177.65903|-42.282303|   0.0|  0.0|331.95813|65.62309|2021-07-30T01:44:...|[5.05549377147219...|\n",
      "|     0.0|-177.65883|-42.281914|   0.0|  0.0| 331.9579|65.62281|2021-07-30T01:44:...|[1.31257850944364...|\n",
      "|     0.0| -177.6857|  -42.2795|   0.0|  0.0|331.98328|65.61138|2021-07-30T01:44:...|[1.27880160019929...|\n",
      "+--------+----------+----------+------+-----+---------+--------+--------------------+--------------------+\n",
      "only showing top 3 rows\n",
      "\n"
     ]
    }
   ],
   "source": [
    "onedf.select(someonecolumns).show(3,truncate=True)"
   ]
  },
  {
   "cell_type": "code",
   "execution_count": 14,
   "metadata": {},
   "outputs": [
    {
     "name": "stdout",
     "output_type": "stream",
     "text": [
      "['altitude', 'longitude', 'latitude', 'aspect', 'slope', 'sol_az', 'sol_zn', 'xco2', 'time_str']\n"
     ]
    }
   ],
   "source": [
    "sometwocolumns = twodf.columns[1:]\n",
    "print(sometwocolumns)"
   ]
  },
  {
   "cell_type": "code",
   "execution_count": 15,
   "metadata": {},
   "outputs": [
    {
     "name": "stdout",
     "output_type": "stream",
     "text": [
      "+--------+---------+----------+------+-----+---------+---------+------------+--------------------+\n",
      "|altitude|longitude|  latitude|aspect|slope|   sol_az|   sol_zn|        xco2|            time_str|\n",
      "+--------+---------+----------+------+-----+---------+---------+------------+--------------------+\n",
      "|     0.0|117.99623|-1.8841984|   0.0|  0.0|316.61044|29.744112|4.1165485E-4|2021-07-26T05:39:...|\n",
      "|     0.0|117.98365|-1.8850902|   0.0|  0.0|316.62778|  29.7362|4.1204828E-4|2021-07-26T05:39:...|\n",
      "|     0.0|117.97101|-1.8858954|   0.0|  0.0|316.64508|29.728186| 4.119231E-4|2021-07-26T05:39:...|\n",
      "+--------+---------+----------+------+-----+---------+---------+------------+--------------------+\n",
      "only showing top 3 rows\n",
      "\n"
     ]
    }
   ],
   "source": [
    "twodf.select(sometwocolumns).show(3,truncate=True)"
   ]
  },
  {
   "cell_type": "markdown",
   "metadata": {},
   "source": [
    "### Basic Statistics "
   ]
  },
  {
   "cell_type": "code",
   "execution_count": 16,
   "metadata": {},
   "outputs": [
    {
     "name": "stdout",
     "output_type": "stream",
     "text": [
      "CPU times: user 10.4 ms, sys: 5.82 ms, total: 16.2 ms\n",
      "Wall time: 29.5 s\n"
     ]
    },
    {
     "data": {
      "text/html": [
       "<div>\n",
       "<style scoped>\n",
       "    .dataframe tbody tr th:only-of-type {\n",
       "        vertical-align: middle;\n",
       "    }\n",
       "\n",
       "    .dataframe tbody tr th {\n",
       "        vertical-align: top;\n",
       "    }\n",
       "\n",
       "    .dataframe thead th {\n",
       "        text-align: right;\n",
       "    }\n",
       "</style>\n",
       "<table border=\"1\" class=\"dataframe\">\n",
       "  <thead>\n",
       "    <tr style=\"text-align: right;\">\n",
       "      <th>summary</th>\n",
       "      <th>count</th>\n",
       "      <th>mean</th>\n",
       "      <th>stddev</th>\n",
       "      <th>min</th>\n",
       "      <th>max</th>\n",
       "    </tr>\n",
       "  </thead>\n",
       "  <tbody>\n",
       "    <tr>\n",
       "      <th>altitude</th>\n",
       "      <td>6530842</td>\n",
       "      <td>272.9433890151779</td>\n",
       "      <td>622.3034413667915</td>\n",
       "      <td>-224.79272</td>\n",
       "      <td>6792.5073</td>\n",
       "    </tr>\n",
       "    <tr>\n",
       "      <th>longitude</th>\n",
       "      <td>6530842</td>\n",
       "      <td>-4.8765936931023965</td>\n",
       "      <td>108.90345186918307</td>\n",
       "      <td>-179.99997</td>\n",
       "      <td>179.99992</td>\n",
       "    </tr>\n",
       "    <tr>\n",
       "      <th>latitude</th>\n",
       "      <td>6530842</td>\n",
       "      <td>14.566058641889837</td>\n",
       "      <td>31.896905134055768</td>\n",
       "      <td>-57.848034</td>\n",
       "      <td>81.86451</td>\n",
       "    </tr>\n",
       "    <tr>\n",
       "      <th>aspect</th>\n",
       "      <td>6530842</td>\n",
       "      <td>67.23092611751224</td>\n",
       "      <td>107.41192521026139</td>\n",
       "      <td>0.0</td>\n",
       "      <td>359.99988</td>\n",
       "    </tr>\n",
       "    <tr>\n",
       "      <th>slope</th>\n",
       "      <td>6530842</td>\n",
       "      <td>1.2966478649836417</td>\n",
       "      <td>5.857427037034664</td>\n",
       "      <td>0.0</td>\n",
       "      <td>90.04166</td>\n",
       "    </tr>\n",
       "    <tr>\n",
       "      <th>sol_az</th>\n",
       "      <td>6530842</td>\n",
       "      <td>270.6378680925028</td>\n",
       "      <td>59.2007687958583</td>\n",
       "      <td>38.420395</td>\n",
       "      <td>333.3136</td>\n",
       "    </tr>\n",
       "    <tr>\n",
       "      <th>sol_zn</th>\n",
       "      <td>6530842</td>\n",
       "      <td>34.44357487660235</td>\n",
       "      <td>15.084898784866759</td>\n",
       "      <td>15.277826</td>\n",
       "      <td>84.99502</td>\n",
       "    </tr>\n",
       "    <tr>\n",
       "      <th>xco2</th>\n",
       "      <td>6530842</td>\n",
       "      <td>4.1110054904717444E-4</td>\n",
       "      <td>3.987470694656134E-6</td>\n",
       "      <td>1.7959013E-4</td>\n",
       "      <td>5.2126375E-4</td>\n",
       "    </tr>\n",
       "  </tbody>\n",
       "</table>\n",
       "</div>"
      ],
      "text/plain": [
       "summary      count                   mean                stddev           min  \\\n",
       "altitude   6530842      272.9433890151779     622.3034413667915    -224.79272   \n",
       "longitude  6530842    -4.8765936931023965    108.90345186918307    -179.99997   \n",
       "latitude   6530842     14.566058641889837    31.896905134055768    -57.848034   \n",
       "aspect     6530842      67.23092611751224    107.41192521026139           0.0   \n",
       "slope      6530842     1.2966478649836417     5.857427037034664           0.0   \n",
       "sol_az     6530842      270.6378680925028      59.2007687958583     38.420395   \n",
       "sol_zn     6530842      34.44357487660235    15.084898784866759     15.277826   \n",
       "xco2       6530842  4.1110054904717444E-4  3.987470694656134E-6  1.7959013E-4   \n",
       "\n",
       "summary             max  \n",
       "altitude      6792.5073  \n",
       "longitude     179.99992  \n",
       "latitude       81.86451  \n",
       "aspect        359.99988  \n",
       "slope          90.04166  \n",
       "sol_az         333.3136  \n",
       "sol_zn         84.99502  \n",
       "xco2       5.2126375E-4  "
      ]
     },
     "execution_count": 16,
     "metadata": {},
     "output_type": "execute_result"
    }
   ],
   "source": [
    "%%time\n",
    "twodf.select(sometwocolumns[:-1]).describe().toPandas().set_index('summary').transpose()"
   ]
  },
  {
   "cell_type": "code",
   "execution_count": 17,
   "metadata": {},
   "outputs": [
    {
     "name": "stdout",
     "output_type": "stream",
     "text": [
      "CPU times: user 12 ms, sys: 4.79 ms, total: 16.8 ms\n",
      "Wall time: 1min 46s\n"
     ]
    },
    {
     "data": {
      "text/html": [
       "<div>\n",
       "<style scoped>\n",
       "    .dataframe tbody tr th:only-of-type {\n",
       "        vertical-align: middle;\n",
       "    }\n",
       "\n",
       "    .dataframe tbody tr th {\n",
       "        vertical-align: top;\n",
       "    }\n",
       "\n",
       "    .dataframe thead th {\n",
       "        text-align: right;\n",
       "    }\n",
       "</style>\n",
       "<table border=\"1\" class=\"dataframe\">\n",
       "  <thead>\n",
       "    <tr style=\"text-align: right;\">\n",
       "      <th>summary</th>\n",
       "      <th>count</th>\n",
       "      <th>mean</th>\n",
       "      <th>stddev</th>\n",
       "      <th>min</th>\n",
       "      <th>max</th>\n",
       "    </tr>\n",
       "  </thead>\n",
       "  <tbody>\n",
       "    <tr>\n",
       "      <th>altitude</th>\n",
       "      <td>86406624</td>\n",
       "      <td>-4653.700015839513</td>\n",
       "      <td>69536.32245063811</td>\n",
       "      <td>-999999.0</td>\n",
       "      <td>6954.7114</td>\n",
       "    </tr>\n",
       "    <tr>\n",
       "      <th>longitude</th>\n",
       "      <td>86406624</td>\n",
       "      <td>3.8105722605718344</td>\n",
       "      <td>105.49336567673787</td>\n",
       "      <td>-180.0</td>\n",
       "      <td>180.0</td>\n",
       "    </tr>\n",
       "    <tr>\n",
       "      <th>latitude</th>\n",
       "      <td>86406624</td>\n",
       "      <td>20.359452069239005</td>\n",
       "      <td>43.51332991006797</td>\n",
       "      <td>-61.629215</td>\n",
       "      <td>81.86876</td>\n",
       "    </tr>\n",
       "    <tr>\n",
       "      <th>aspect</th>\n",
       "      <td>86406624</td>\n",
       "      <td>-5622.21574782042</td>\n",
       "      <td>75107.59495654641</td>\n",
       "      <td>-999999.0</td>\n",
       "      <td>360.0</td>\n",
       "    </tr>\n",
       "    <tr>\n",
       "      <th>slope</th>\n",
       "      <td>86406624</td>\n",
       "      <td>-5671.792578207138</td>\n",
       "      <td>75103.7884986975</td>\n",
       "      <td>-999999.0</td>\n",
       "      <td>90.18926</td>\n",
       "    </tr>\n",
       "    <tr>\n",
       "      <th>sol_az</th>\n",
       "      <td>86406624</td>\n",
       "      <td>243.85604549628556</td>\n",
       "      <td>596.049239835914</td>\n",
       "      <td>-999999.0</td>\n",
       "      <td>333.31796</td>\n",
       "    </tr>\n",
       "    <tr>\n",
       "      <th>sol_zn</th>\n",
       "      <td>86406624</td>\n",
       "      <td>45.291336605170414</td>\n",
       "      <td>589.6221873922492</td>\n",
       "      <td>-999999.0</td>\n",
       "      <td>89.68484</td>\n",
       "    </tr>\n",
       "  </tbody>\n",
       "</table>\n",
       "</div>"
      ],
      "text/plain": [
       "summary       count                mean              stddev         min  \\\n",
       "altitude   86406624  -4653.700015839513   69536.32245063811   -999999.0   \n",
       "longitude  86406624  3.8105722605718344  105.49336567673787      -180.0   \n",
       "latitude   86406624  20.359452069239005   43.51332991006797  -61.629215   \n",
       "aspect     86406624   -5622.21574782042   75107.59495654641   -999999.0   \n",
       "slope      86406624  -5671.792578207138    75103.7884986975   -999999.0   \n",
       "sol_az     86406624  243.85604549628556    596.049239835914   -999999.0   \n",
       "sol_zn     86406624  45.291336605170414   589.6221873922492   -999999.0   \n",
       "\n",
       "summary          max  \n",
       "altitude   6954.7114  \n",
       "longitude      180.0  \n",
       "latitude    81.86876  \n",
       "aspect         360.0  \n",
       "slope       90.18926  \n",
       "sol_az     333.31796  \n",
       "sol_zn      89.68484  "
      ]
     },
     "execution_count": 17,
     "metadata": {},
     "output_type": "execute_result"
    }
   ],
   "source": [
    "%%time\n",
    "onedf.select(someonecolumns[:-2]).describe().toPandas().set_index('summary').transpose()"
   ]
  },
  {
   "cell_type": "markdown",
   "metadata": {},
   "source": [
    "> **28** millions `L1` spectra and **6.5** millions `L2` $X_{co2}$ from the oco2 satellite in July 2021."
   ]
  },
  {
   "cell_type": "markdown",
   "metadata": {},
   "source": [
    "## [3] HealPix Partitioning (or GroupBy Healpix Index)\n",
    "\n",
    "- healpy: https://healpy.readthedocs.io/en/latest/tutorial.html "
   ]
  },
  {
   "cell_type": "code",
   "execution_count": 18,
   "metadata": {},
   "outputs": [],
   "source": [
    "import healpy as hp"
   ]
  },
  {
   "cell_type": "code",
   "execution_count": 19,
   "metadata": {},
   "outputs": [
    {
     "name": "stdout",
     "output_type": "stream",
     "text": [
      "3145728\n"
     ]
    }
   ],
   "source": [
    "NSIDE = 512\n",
    "NPIX = hp.nside2npix(NSIDE)\n",
    "print(NPIX)"
   ]
  },
  {
   "cell_type": "markdown",
   "metadata": {},
   "source": [
    "> For $NSIDE = 512$, each healpix pixel size is 162 $km^2$ ($\\approx 12.7 km \\times 12.7 km$). "
   ]
  },
  {
   "cell_type": "code",
   "execution_count": 20,
   "metadata": {},
   "outputs": [
    {
     "name": "stdout",
     "output_type": "stream",
     "text": [
      "12582912\n"
     ]
    }
   ],
   "source": [
    "NSIDE = 1024\n",
    "NPIX = hp.nside2npix(NSIDE)\n",
    "print(NPIX)"
   ]
  },
  {
   "cell_type": "markdown",
   "metadata": {},
   "source": [
    "> The total surface area of Earth is 509,600,000 $km^2$. <br> Hence, the area for each HealPix pixel (or, tile) is roughly 40 $km^2$ ($\\approx 6.3 km \\times 6.3 km$) for $NSIDE=1024$ "
   ]
  },
  {
   "cell_type": "markdown",
   "metadata": {},
   "source": [
    "### PySpark UDF for assigning healpix indices (`NSIDE = 1024`)"
   ]
  },
  {
   "cell_type": "code",
   "execution_count": 21,
   "metadata": {},
   "outputs": [],
   "source": [
    "import numpy as np\n",
    "import healpy as hp\n",
    "def getHealPixIndexLatLon(inlat, inlon, nside):\n",
    "    lat_theta = 0.5*np.pi - np.radians(inlat)\n",
    "    lon_phi = np.radians(inlon)\n",
    "    \n",
    "    return int(hp.ang2pix(nside,theta = lat_theta,phi= lon_phi,nest=True))"
   ]
  },
  {
   "cell_type": "code",
   "execution_count": 22,
   "metadata": {},
   "outputs": [
    {
     "data": {
      "text/plain": [
       "7776938"
      ]
     },
     "execution_count": 22,
     "metadata": {},
     "output_type": "execute_result"
    }
   ],
   "source": [
    "getHealPixIndexLatLon(0,270,NSIDE)"
   ]
  },
  {
   "cell_type": "code",
   "execution_count": 23,
   "metadata": {},
   "outputs": [
    {
     "data": {
      "text/plain": [
       "7776938"
      ]
     },
     "execution_count": 23,
     "metadata": {},
     "output_type": "execute_result"
    }
   ],
   "source": [
    "hp.ang2pix(NSIDE,theta=np.pi*0.5,phi =np.pi*1.5, nest=True)"
   ]
  },
  {
   "cell_type": "code",
   "execution_count": 24,
   "metadata": {},
   "outputs": [],
   "source": [
    "from functools import partial\n",
    "healpix512udf = F.udf(partial(getHealPixIndexLatLon,nside=512),T.IntegerType())\n",
    "healpix1024udf = F.udf(partial(getHealPixIndexLatLon,nside=1024),T.IntegerType())"
   ]
  },
  {
   "cell_type": "code",
   "execution_count": 25,
   "metadata": {},
   "outputs": [],
   "source": [
    "#rawdf = rawdf.withColumn('ipx512nested',healpix512udf(F.col('latitude'),F.col('longitude')))"
   ]
  },
  {
   "cell_type": "code",
   "execution_count": 26,
   "metadata": {},
   "outputs": [],
   "source": [
    "onedf = onedf.withColumn('ipx1024nested',healpix1024udf(F.col('latitude'),F.col('longitude')))\n",
    "twodf = twodf.withColumn('ipx1024nested',healpix1024udf(F.col('latitude'),F.col('longitude')))"
   ]
  },
  {
   "cell_type": "code",
   "execution_count": 27,
   "metadata": {},
   "outputs": [
    {
     "data": {
      "text/plain": [
       "DataFrame[filename: string, channel_ind: int, pix_ind: int, row_ind: int, altitude: float, longitude: float, latitude: float, aspect: float, slope: float, sol_az: float, sol_zn: float, fo_az: float, fo_zn: float, flag: int, snr: float, continuum: float, time_str: string, spectrum: array<double>, ipx1024nested: int]"
      ]
     },
     "execution_count": 27,
     "metadata": {},
     "output_type": "execute_result"
    }
   ],
   "source": [
    "onedf.cache()"
   ]
  },
  {
   "cell_type": "code",
   "execution_count": 28,
   "metadata": {},
   "outputs": [
    {
     "data": {
      "text/plain": [
       "DataFrame[filename: string, altitude: float, longitude: float, latitude: float, aspect: float, slope: float, sol_az: float, sol_zn: float, xco2: float, time_str: string, ipx1024nested: int]"
      ]
     },
     "execution_count": 28,
     "metadata": {},
     "output_type": "execute_result"
    }
   ],
   "source": [
    "twodf.cache()"
   ]
  },
  {
   "cell_type": "markdown",
   "metadata": {},
   "source": [
    "### GroupBy  `ipx1024nested` "
   ]
  },
  {
   "cell_type": "code",
   "execution_count": 29,
   "metadata": {},
   "outputs": [
    {
     "name": "stdout",
     "output_type": "stream",
     "text": [
      "12582912\n"
     ]
    }
   ],
   "source": [
    "# Make sure the NSIDE value correct\n",
    "NSIDE = 1024\n",
    "NPIX = hp.nside2npix(NSIDE)\n",
    "print(NPIX)"
   ]
  },
  {
   "cell_type": "code",
   "execution_count": 30,
   "metadata": {},
   "outputs": [
    {
     "name": "stdout",
     "output_type": "stream",
     "text": [
      "CPU times: user 1.75 ms, sys: 0 ns, total: 1.75 ms\n",
      "Wall time: 15.3 ms\n"
     ]
    }
   ],
   "source": [
    "%%time\n",
    "onecountdf = onedf.groupBy('ipx1024nested').agg(F.count(\"*\").alias(\"count\"))\n",
    "twocountdf = twodf.groupBy('ipx1024nested').agg(F.count(\"*\").alias(\"count\"))"
   ]
  },
  {
   "cell_type": "code",
   "execution_count": 31,
   "metadata": {},
   "outputs": [],
   "source": [
    "full_index = pd.RangeIndex(start=0, stop=NPIX)"
   ]
  },
  {
   "cell_type": "code",
   "execution_count": 32,
   "metadata": {},
   "outputs": [
    {
     "name": "stdout",
     "output_type": "stream",
     "text": [
      "CPU times: user 289 ms, sys: 71.7 ms, total: 360 ms\n",
      "Wall time: 19.3 s\n"
     ]
    }
   ],
   "source": [
    "%%time\n",
    "twovispdf = \\\n",
    "twocountdf.orderBy('ipx1024nested').toPandas()\\\n",
    ".set_index('ipx1024nested').reindex(full_index, fill_value=0)"
   ]
  },
  {
   "cell_type": "code",
   "execution_count": 33,
   "metadata": {},
   "outputs": [
    {
     "name": "stdout",
     "output_type": "stream",
     "text": [
      "CPU times: user 601 ms, sys: 237 ms, total: 838 ms\n",
      "Wall time: 12min 10s\n"
     ]
    }
   ],
   "source": [
    "%%time\n",
    "onevispdf = \\\n",
    "onecountdf.orderBy('ipx1024nested').toPandas()\\\n",
    ".set_index('ipx1024nested').reindex(full_index, fill_value=0)"
   ]
  },
  {
   "cell_type": "code",
   "execution_count": 34,
   "metadata": {},
   "outputs": [
    {
     "data": {
      "text/html": [
       "<div>\n",
       "<style scoped>\n",
       "    .dataframe tbody tr th:only-of-type {\n",
       "        vertical-align: middle;\n",
       "    }\n",
       "\n",
       "    .dataframe tbody tr th {\n",
       "        vertical-align: top;\n",
       "    }\n",
       "\n",
       "    .dataframe thead th {\n",
       "        text-align: right;\n",
       "    }\n",
       "</style>\n",
       "<table border=\"1\" class=\"dataframe\">\n",
       "  <thead>\n",
       "    <tr style=\"text-align: right;\">\n",
       "      <th></th>\n",
       "      <th>count</th>\n",
       "    </tr>\n",
       "  </thead>\n",
       "  <tbody>\n",
       "    <tr>\n",
       "      <th>count</th>\n",
       "      <td>1.258291e+07</td>\n",
       "    </tr>\n",
       "    <tr>\n",
       "      <th>mean</th>\n",
       "      <td>6.866982e+00</td>\n",
       "    </tr>\n",
       "    <tr>\n",
       "      <th>std</th>\n",
       "      <td>2.133843e+01</td>\n",
       "    </tr>\n",
       "    <tr>\n",
       "      <th>min</th>\n",
       "      <td>0.000000e+00</td>\n",
       "    </tr>\n",
       "    <tr>\n",
       "      <th>25%</th>\n",
       "      <td>0.000000e+00</td>\n",
       "    </tr>\n",
       "    <tr>\n",
       "      <th>50%</th>\n",
       "      <td>0.000000e+00</td>\n",
       "    </tr>\n",
       "    <tr>\n",
       "      <th>75%</th>\n",
       "      <td>0.000000e+00</td>\n",
       "    </tr>\n",
       "    <tr>\n",
       "      <th>max</th>\n",
       "      <td>3.436000e+03</td>\n",
       "    </tr>\n",
       "  </tbody>\n",
       "</table>\n",
       "</div>"
      ],
      "text/plain": [
       "              count\n",
       "count  1.258291e+07\n",
       "mean   6.866982e+00\n",
       "std    2.133843e+01\n",
       "min    0.000000e+00\n",
       "25%    0.000000e+00\n",
       "50%    0.000000e+00\n",
       "75%    0.000000e+00\n",
       "max    3.436000e+03"
      ]
     },
     "execution_count": 34,
     "metadata": {},
     "output_type": "execute_result"
    }
   ],
   "source": [
    "onevispdf.describe()"
   ]
  },
  {
   "cell_type": "code",
   "execution_count": 35,
   "metadata": {},
   "outputs": [
    {
     "data": {
      "text/html": [
       "<div>\n",
       "<style scoped>\n",
       "    .dataframe tbody tr th:only-of-type {\n",
       "        vertical-align: middle;\n",
       "    }\n",
       "\n",
       "    .dataframe tbody tr th {\n",
       "        vertical-align: top;\n",
       "    }\n",
       "\n",
       "    .dataframe thead th {\n",
       "        text-align: right;\n",
       "    }\n",
       "</style>\n",
       "<table border=\"1\" class=\"dataframe\">\n",
       "  <thead>\n",
       "    <tr style=\"text-align: right;\">\n",
       "      <th></th>\n",
       "      <th>count</th>\n",
       "    </tr>\n",
       "  </thead>\n",
       "  <tbody>\n",
       "    <tr>\n",
       "      <th>count</th>\n",
       "      <td>1.258291e+07</td>\n",
       "    </tr>\n",
       "    <tr>\n",
       "      <th>mean</th>\n",
       "      <td>5.190247e-01</td>\n",
       "    </tr>\n",
       "    <tr>\n",
       "      <th>std</th>\n",
       "      <td>3.164071e+00</td>\n",
       "    </tr>\n",
       "    <tr>\n",
       "      <th>min</th>\n",
       "      <td>0.000000e+00</td>\n",
       "    </tr>\n",
       "    <tr>\n",
       "      <th>25%</th>\n",
       "      <td>0.000000e+00</td>\n",
       "    </tr>\n",
       "    <tr>\n",
       "      <th>50%</th>\n",
       "      <td>0.000000e+00</td>\n",
       "    </tr>\n",
       "    <tr>\n",
       "      <th>75%</th>\n",
       "      <td>0.000000e+00</td>\n",
       "    </tr>\n",
       "    <tr>\n",
       "      <th>max</th>\n",
       "      <td>1.294000e+03</td>\n",
       "    </tr>\n",
       "  </tbody>\n",
       "</table>\n",
       "</div>"
      ],
      "text/plain": [
       "              count\n",
       "count  1.258291e+07\n",
       "mean   5.190247e-01\n",
       "std    3.164071e+00\n",
       "min    0.000000e+00\n",
       "25%    0.000000e+00\n",
       "50%    0.000000e+00\n",
       "75%    0.000000e+00\n",
       "max    1.294000e+03"
      ]
     },
     "execution_count": 35,
     "metadata": {},
     "output_type": "execute_result"
    }
   ],
   "source": [
    "twovispdf.describe()"
   ]
  },
  {
   "cell_type": "markdown",
   "metadata": {},
   "source": [
    "### TCCON Sites"
   ]
  },
  {
   "cell_type": "code",
   "execution_count": 36,
   "metadata": {},
   "outputs": [],
   "source": [
    "tcconsites = [['Anmyeondo,Korea',126.3311,36.5382],['Caltech,USA',-118.1269,34.1362],\n",
    "             ['Paris,France',2.356,48.846],['Sodankyla,Finland',26.6310,67.3668]]"
   ]
  },
  {
   "cell_type": "code",
   "execution_count": 37,
   "metadata": {},
   "outputs": [],
   "source": [
    "tccondf = pd.DataFrame(tcconsites,columns=['location','lon','lat'])"
   ]
  },
  {
   "cell_type": "code",
   "execution_count": 38,
   "metadata": {},
   "outputs": [
    {
     "data": {
      "text/html": [
       "<div>\n",
       "<style scoped>\n",
       "    .dataframe tbody tr th:only-of-type {\n",
       "        vertical-align: middle;\n",
       "    }\n",
       "\n",
       "    .dataframe tbody tr th {\n",
       "        vertical-align: top;\n",
       "    }\n",
       "\n",
       "    .dataframe thead th {\n",
       "        text-align: right;\n",
       "    }\n",
       "</style>\n",
       "<table border=\"1\" class=\"dataframe\">\n",
       "  <thead>\n",
       "    <tr style=\"text-align: right;\">\n",
       "      <th></th>\n",
       "      <th>location</th>\n",
       "      <th>lon</th>\n",
       "      <th>lat</th>\n",
       "    </tr>\n",
       "  </thead>\n",
       "  <tbody>\n",
       "    <tr>\n",
       "      <th>0</th>\n",
       "      <td>Anmyeondo,Korea</td>\n",
       "      <td>126.3311</td>\n",
       "      <td>36.5382</td>\n",
       "    </tr>\n",
       "    <tr>\n",
       "      <th>1</th>\n",
       "      <td>Caltech,USA</td>\n",
       "      <td>-118.1269</td>\n",
       "      <td>34.1362</td>\n",
       "    </tr>\n",
       "    <tr>\n",
       "      <th>2</th>\n",
       "      <td>Paris,France</td>\n",
       "      <td>2.3560</td>\n",
       "      <td>48.8460</td>\n",
       "    </tr>\n",
       "    <tr>\n",
       "      <th>3</th>\n",
       "      <td>Sodankyla,Finland</td>\n",
       "      <td>26.6310</td>\n",
       "      <td>67.3668</td>\n",
       "    </tr>\n",
       "  </tbody>\n",
       "</table>\n",
       "</div>"
      ],
      "text/plain": [
       "            location       lon      lat\n",
       "0    Anmyeondo,Korea  126.3311  36.5382\n",
       "1        Caltech,USA -118.1269  34.1362\n",
       "2       Paris,France    2.3560  48.8460\n",
       "3  Sodankyla,Finland   26.6310  67.3668"
      ]
     },
     "execution_count": 38,
     "metadata": {},
     "output_type": "execute_result"
    }
   ],
   "source": [
    "tccondf.head()"
   ]
  },
  {
   "cell_type": "code",
   "execution_count": 39,
   "metadata": {},
   "outputs": [
    {
     "data": {
      "text/plain": [
       "4"
      ]
     },
     "execution_count": 39,
     "metadata": {},
     "output_type": "execute_result"
    }
   ],
   "source": [
    "numtccon = len(tccondf.index)\n",
    "numtccon"
   ]
  },
  {
   "cell_type": "code",
   "execution_count": 40,
   "metadata": {},
   "outputs": [],
   "source": [
    "tcconphi = tccondf.lon.values * np.pi / 180.0\n",
    "tccontheta = (90.0 - tccondf.lat.values) * np.pi / 180.0"
   ]
  },
  {
   "cell_type": "code",
   "execution_count": 41,
   "metadata": {},
   "outputs": [
    {
     "data": {
      "text/plain": [
       "(array([0.93308443, 0.97500724, 0.7182728 , 0.39502386]),\n",
       " array([ 2.20489364, -2.06170334,  0.04111996,  0.46479863]))"
      ]
     },
     "execution_count": 41,
     "metadata": {},
     "output_type": "execute_result"
    }
   ],
   "source": [
    "tccontheta,tcconphi"
   ]
  },
  {
   "cell_type": "code",
   "execution_count": 42,
   "metadata": {},
   "outputs": [],
   "source": [
    "import warnings\n",
    "warnings.filterwarnings(\"ignore\")"
   ]
  },
  {
   "cell_type": "code",
   "execution_count": 43,
   "metadata": {},
   "outputs": [],
   "source": [
    "import matplotlib\n",
    "matplotlib.font_manager._rebuild()"
   ]
  },
  {
   "cell_type": "code",
   "execution_count": 44,
   "metadata": {
    "scrolled": false
   },
   "outputs": [
    {
     "name": "stderr",
     "output_type": "stream",
     "text": [
      "findfont: Font family ['serif'] not found. Falling back to DejaVu Sans.\n",
      "findfont: Font family ['serif'] not found. Falling back to DejaVu Sans.\n",
      "findfont: Font family ['serif'] not found. Falling back to DejaVu Sans.\n"
     ]
    },
    {
     "data": {
      "image/png": "[encoded data removed]",
      "text/plain": [
       "<Figure size 720x453.6 with 2 Axes>"
      ]
     },
     "metadata": {
      "needs_background": "light"
     },
     "output_type": "display_data"
    }
   ],
   "source": [
    "from matplotlib import cm\n",
    "from healpy.newvisufunc import projview, newprojplot\n",
    "# classic healpy mollweide projections plot with graticule and axis labels and vertical color bar\n",
    "projview(\n",
    "    np.nan_to_num(np.log10(onevispdf['count'].values),nan=-0.5,neginf=-0.5),\n",
    "    \n",
    "    ## Geo Conventions for Earth DAta\n",
    "    coord=[\"G\"],\n",
    "    \n",
    "    graticule=True,\n",
    "    graticule_labels=True,\n",
    "    unit=r'log$_{10}$(counts)',\n",
    "    #xlabel=\"longitude\",\n",
    "    #ylabel=\"latitude\",\n",
    "    min=-0.5,\n",
    "    max=2.1,\n",
    "    cbar_ticks=[0,1,2],\n",
    "    cb_orientation=\"vertical\",\n",
    "    projection_type=\"mollweide\",\n",
    "    cmap=cm.Greens,\n",
    "    nest=True,\n",
    "    \n",
    "    ## Geo Conventions for Earth Data\n",
    "    flip=\"geo\",\n",
    "    phi_convention=\"clockwise\",\n",
    "    \n",
    "    override_plot_properties={\"cbar_label_pad\": 1.},\n",
    "    title='OCO2 L1 Measurements in July 2021'\n",
    ")\n",
    "for i in range(numtccon):\n",
    "    newprojplot(theta=tccontheta[i], phi=tcconphi[i], marker=\"*\", \\\n",
    "                color=\"red\", markersize=10, mfc='none',alpha=1.0);\n",
    "plt.savefig('oco2-L1-measurements-nside1024-july-2021.pdf')\n",
    "plt.show()"
   ]
  },
  {
   "cell_type": "code",
   "execution_count": 45,
   "metadata": {},
   "outputs": [
    {
     "data": {
      "image/png": "[encoded data removed]",
      "text/plain": [
       "<Figure size 720x453.6 with 2 Axes>"
      ]
     },
     "metadata": {
      "needs_background": "light"
     },
     "output_type": "display_data"
    }
   ],
   "source": [
    "from matplotlib import cm\n",
    "from healpy.newvisufunc import projview, newprojplot\n",
    "# classic healpy mollweide projections plot with graticule and axis labels and vertical color bar\n",
    "projview(\n",
    "    np.nan_to_num(np.log10(twovispdf['count'].values),nan=-0.5,neginf=-0.5),\n",
    "    \n",
    "    ## Geo Conventions for Earth DAta\n",
    "    coord=[\"G\"],\n",
    "    \n",
    "    graticule=True,\n",
    "    graticule_labels=True,\n",
    "    unit=r'log$_{10}$(counts)',\n",
    "    #xlabel=\"longitude\",\n",
    "    #ylabel=\"latitude\",\n",
    "    min=-0.5,\n",
    "    max=2.1,\n",
    "    cbar_ticks=[0,1,2],\n",
    "    cb_orientation=\"vertical\",\n",
    "    projection_type=\"mollweide\",\n",
    "    cmap=cm.Purples,\n",
    "    nest=True,\n",
    "    \n",
    "    ## Geo Conventions for Earth Data\n",
    "    flip=\"geo\",\n",
    "    phi_convention=\"clockwise\",\n",
    "    \n",
    "    override_plot_properties={\"cbar_label_pad\": 1.},\n",
    "    title='OCO2 L2 Measurements in July 2021'\n",
    ")\n",
    "for i in range(numtccon):\n",
    "    newprojplot(theta=tccontheta[i], phi=tcconphi[i], marker=\"*\", \\\n",
    "                color=\"red\", markersize=10, mfc='none',alpha=1.0);\n",
    "plt.savefig('oco2-L2-measurements-nside1024-july-2021.pdf')\n",
    "plt.show()"
   ]
  },
  {
   "cell_type": "markdown",
   "metadata": {},
   "source": [
    "- The observation coverages of 28 millions L1 CO$_2$ spectra (green) and 6.5 million L2 $X_{co2}$ (orange) obtained by the oco2 satellite in July 2021. The red stars represent the locations of our selected four tcconn sites. "
   ]
  },
  {
   "cell_type": "code",
   "execution_count": 46,
   "metadata": {},
   "outputs": [],
   "source": [
    "onevispdf.to_parquet('/home/ebkim/work/oco2/data/oco2_L1_healpix_nside1024.parquet.gzip', compression='gzip')\n",
    "twovispdf.to_parquet('/home/ebkim/work/oco2/data/oco2_L2_healpix_nside1024.parquet.gzip', compression='gzip')"
   ]
  },
  {
   "cell_type": "markdown",
   "metadata": {},
   "source": [
    "## [4] Cross-match L1 and L2 Data at the TCCON Site in Paris"
   ]
  },
  {
   "cell_type": "code",
   "execution_count": 47,
   "metadata": {},
   "outputs": [],
   "source": [
    "sitelon = tccondf[tccondf['location']=='Paris,France'].lon.values[0] \n",
    "sitelat = tccondf[tccondf['location']=='Paris,France'].lat.values[0]"
   ]
  },
  {
   "cell_type": "code",
   "execution_count": 48,
   "metadata": {},
   "outputs": [
    {
     "name": "stdout",
     "output_type": "stream",
     "text": [
      "2.356 48.846\n"
     ]
    }
   ],
   "source": [
    "print(sitelon,sitelat)"
   ]
  },
  {
   "cell_type": "markdown",
   "metadata": {},
   "source": [
    "#### Get healpix index at the site in Paris"
   ]
  },
  {
   "cell_type": "code",
   "execution_count": 49,
   "metadata": {},
   "outputs": [],
   "source": [
    "NSIDE=1024 # or 512 "
   ]
  },
  {
   "cell_type": "code",
   "execution_count": 50,
   "metadata": {},
   "outputs": [
    {
     "name": "stdout",
     "output_type": "stream",
     "text": [
      "715921\n"
     ]
    }
   ],
   "source": [
    "isite = getHealPixIndexLatLon(sitelat,sitelon,NSIDE)\n",
    "print(isite)"
   ]
  },
  {
   "cell_type": "markdown",
   "metadata": {},
   "source": [
    "#### And its 8 neighbor tiles"
   ]
  },
  {
   "cell_type": "code",
   "execution_count": 51,
   "metadata": {},
   "outputs": [],
   "source": [
    "ineighbor = hp.get_all_neighbours(NSIDE,isite,nest=True).tolist()"
   ]
  },
  {
   "cell_type": "code",
   "execution_count": 52,
   "metadata": {},
   "outputs": [
    {
     "name": "stdout",
     "output_type": "stream",
     "text": [
      "[715920, 715922, 715923, 715926, 715924, 715838, 715835, 715834, 715921]\n"
     ]
    }
   ],
   "source": [
    "iall = ineighbor+[isite]\n",
    "print(iall)"
   ]
  },
  {
   "cell_type": "markdown",
   "metadata": {},
   "source": [
    "> All 9 healpix tiles, where each size is $\\approx 6.3 km \\times 6.3 km$ for `NSIDE=1024` (double in length for` NSIDE=512`)"
   ]
  },
  {
   "cell_type": "markdown",
   "metadata": {},
   "source": [
    "### Select L1 and L2 data at the TCCON site in Paris via Healpix Index "
   ]
  },
  {
   "cell_type": "code",
   "execution_count": 53,
   "metadata": {},
   "outputs": [],
   "source": [
    "onepixdf = onedf.filter(onedf[\"ipx1024nested\"].isin(isite))"
   ]
  },
  {
   "cell_type": "code",
   "execution_count": 54,
   "metadata": {},
   "outputs": [],
   "source": [
    "twopixdf = twodf.filter(twodf[\"ipx1024nested\"].isin(iall))"
   ]
  },
  {
   "cell_type": "code",
   "execution_count": 55,
   "metadata": {},
   "outputs": [
    {
     "data": {
      "text/plain": [
       "DataFrame[filename: string, channel_ind: int, pix_ind: int, row_ind: int, altitude: float, longitude: float, latitude: float, aspect: float, slope: float, sol_az: float, sol_zn: float, fo_az: float, fo_zn: float, flag: int, snr: float, continuum: float, time_str: string, spectrum: array<double>, ipx1024nested: int]"
      ]
     },
     "execution_count": 55,
     "metadata": {},
     "output_type": "execute_result"
    }
   ],
   "source": [
    "onepixdf.cache()"
   ]
  },
  {
   "cell_type": "code",
   "execution_count": 56,
   "metadata": {},
   "outputs": [
    {
     "data": {
      "text/plain": [
       "DataFrame[filename: string, altitude: float, longitude: float, latitude: float, aspect: float, slope: float, sol_az: float, sol_zn: float, xco2: float, time_str: string, ipx1024nested: int]"
      ]
     },
     "execution_count": 56,
     "metadata": {},
     "output_type": "execute_result"
    }
   ],
   "source": [
    "twopixdf.cache()"
   ]
  },
  {
   "cell_type": "code",
   "execution_count": 57,
   "metadata": {},
   "outputs": [
    {
     "name": "stdout",
     "output_type": "stream",
     "text": [
      "CPU times: user 180 ms, sys: 177 ms, total: 358 ms\n",
      "Wall time: 11min 36s\n"
     ]
    }
   ],
   "source": [
    "%%time\n",
    "onepixdf.write.option(\"compression\", \"snappy\") \\\n",
    ".mode(\"overwrite\") \\\n",
    ".parquet('hdfs://spark00:54310/user/ebkim/data/paris_L1_isite.parquet.snappy')"
   ]
  },
  {
   "cell_type": "code",
   "execution_count": 58,
   "metadata": {},
   "outputs": [
    {
     "name": "stdout",
     "output_type": "stream",
     "text": [
      "CPU times: user 18.2 ms, sys: 37.2 ms, total: 55.4 ms\n",
      "Wall time: 7.93 s\n"
     ]
    }
   ],
   "source": [
    "%%time\n",
    "twopixdf.write.option(\"compression\", \"snappy\") \\\n",
    ".mode(\"overwrite\") \\\n",
    ".parquet('hdfs://spark00:54310/user/ebkim/data/paris_L2_iall.parquet.snappy')"
   ]
  },
  {
   "cell_type": "code",
   "execution_count": 59,
   "metadata": {},
   "outputs": [
    {
     "data": {
      "text/plain": [
       "3081"
      ]
     },
     "execution_count": 59,
     "metadata": {},
     "output_type": "execute_result"
    }
   ],
   "source": [
    "onepixdf.count()"
   ]
  },
  {
   "cell_type": "code",
   "execution_count": 60,
   "metadata": {
    "scrolled": true
   },
   "outputs": [
    {
     "data": {
      "text/plain": [
       "4237"
      ]
     },
     "execution_count": 60,
     "metadata": {},
     "output_type": "execute_result"
    }
   ],
   "source": [
    "twopixdf.count()"
   ]
  },
  {
   "cell_type": "markdown",
   "metadata": {},
   "source": [
    "- 14985/3 = 4995 L1 spectra and 4237 L2 $X_{co2}$ at the TCCON site in Paris"
   ]
  }
 ],
 "metadata": {
  "kernelspec": {
   "display_name": "Python 3",
   "language": "python",
   "name": "python3"
  },
  "language_info": {
   "codemirror_mode": {
    "name": "ipython",
    "version": 3
   },
   "file_extension": ".py",
   "mimetype": "text/x-python",
   "name": "python",
   "nbconvert_exporter": "python",
   "pygments_lexer": "ipython3",
   "version": "3.8.10"
  }
 },
 "nbformat": 4,
 "nbformat_minor": 4
}
