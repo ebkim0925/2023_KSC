{
 "cells": [
  {
   "cell_type": "markdown",
   "metadata": {},
   "source": [
    "## Import Basic Libraries"
   ]
  },
  {
   "cell_type": "code",
   "execution_count": 1,
   "metadata": {},
   "outputs": [],
   "source": [
    "import numpy as np\n",
    "import pandas as pd\n",
    "import glob\n",
    "import sys\n",
    "import h5py\n",
    "#from netCDF4 import Dataset\n",
    "from datetime import datetime\n",
    "from tqdm.notebook import tqdm\n",
    "import matplotlib.pyplot as plt\n",
    "from scipy.spatial import cKDTree\n",
    "\n",
    "import pyarrow as pa\n",
    "import pyarrow.parquet as pq\n",
    "\n",
    "from functools import reduce\n",
    "import operator\n",
    "import gc"
   ]
  },
  {
   "cell_type": "code",
   "execution_count": 2,
   "metadata": {},
   "outputs": [],
   "source": [
    "# plot settings\n",
    "plt.rc('font', family='serif') \n",
    "plt.rc('font', serif='Times New Roman') \n",
    "plt.rcParams.update({'font.size': 16})\n",
    "plt.rcParams['mathtext.fontset'] = 'stix'"
   ]
  },
  {
   "cell_type": "markdown",
   "metadata": {},
   "source": [
    "## Define SparkSession and sparkContext"
   ]
  },
  {
   "cell_type": "code",
   "execution_count": 3,
   "metadata": {},
   "outputs": [],
   "source": [
    "# PySpark packages\n",
    "from pyspark import SparkContext   \n",
    "from pyspark.sql import SparkSession\n",
    "\n",
    "import pyspark.sql.functions as F\n",
    "import pyspark.sql.types as T\n",
    "from pyspark import Row\n",
    "from pyspark.sql.window import Window as W\n",
    "\n",
    "\n",
    "spark = SparkSession.builder \\\n",
    "    .master(\"yarn\") \\\n",
    "    .appName(\"spark-shell\") \\\n",
    "    .config(\"spark.driver.maxResultSize\", \"32g\") \\\n",
    "    .config(\"spark.driver.memory\", \"32g\") \\\n",
    "    .config(\"spark.executor.memory\", \"14g\") \\\n",
    "    .config(\"spark.executor.cores\", \"2\") \\\n",
    "    .config(\"spark.executor.instances\", \"50\") \\\n",
    "    .getOrCreate()\n",
    "\n",
    "\n",
    "sc = spark.sparkContext\n",
    "sc.setCheckpointDir(\"hdfs://spark00:54310/tmp/checkpoints\")\n",
    "\n",
    "spark.conf.set(\"spark.sql.debug.maxToStringFields\", 500)\n",
    "spark.conf.set(\"spark.sql.execution.arrow.pyspark.enabled\", \"true\")"
   ]
  },
  {
   "cell_type": "code",
   "execution_count": 4,
   "metadata": {},
   "outputs": [
    {
     "data": {
      "text/plain": [
       "[('spark.driver.memory', '32g'),\n",
       " ('spark.driver.appUIAddress', 'http://spark00:4040'),\n",
       " ('spark.org.apache.hadoop.yarn.server.webproxy.amfilter.AmIpFilter.param.PROXY_HOSTS',\n",
       "  'spark09'),\n",
       " ('spark.driver.maxResultSize', '32g'),\n",
       " ('spark.master', 'yarn'),\n",
       " ('spark.executor.id', 'driver'),\n",
       " ('spark.submit.deployMode', 'client'),\n",
       " ('spark.executor.cores', '2'),\n",
       " ('spark.driver.port', '35523'),\n",
       " ('spark.serializer.objectStreamReset', '100')]"
      ]
     },
     "execution_count": 4,
     "metadata": {},
     "output_type": "execute_result"
    }
   ],
   "source": [
    "sc.getConf().getAll()[:10]"
   ]
  },
  {
   "cell_type": "markdown",
   "metadata": {},
   "source": [
    "## Read h5 files "
   ]
  },
  {
   "cell_type": "code",
   "execution_count": 5,
   "metadata": {},
   "outputs": [],
   "source": [
    "h5dir = '/mnt/raid5/shong/oco2L2/'"
   ]
  },
  {
   "cell_type": "code",
   "execution_count": 6,
   "metadata": {},
   "outputs": [
    {
     "name": "stdout",
     "output_type": "stream",
     "text": [
      "001  021  047  067  087  107  127  147\t167  187  207  227  247  269\r\n",
      "002  022  048  068  088  108  128  148\t168  188  208  228  248  270\r\n",
      "003  023  049  069  089  109  129  149\t169  189  209  229  249  271\r\n",
      "004  024  050  070  090  110  130  150\t170  190  210  230  250  272\r\n",
      "005  025  051  071  091  111  131  151\t171  191  211  231  251  273\r\n",
      "006  026  052  072  092  112  132  152\t172  192  212  232  252  allfile.list\r\n",
      "007  027  053  073  093  113  133  153\t173  193  213  233  253  etc\r\n",
      "008  028  054  074  094  114  134  154\t174  194  214  234  254  julyfile.list\r\n",
      "009  029  055  075  095  115  135  155\t175  195  215  235  255\r\n",
      "010  030  056  076  096  116  136  156\t176  196  216  236  258\r\n",
      "011  031  057  077  097  117  137  157\t177  197  217  237  259\r\n",
      "012  032  058  078  098  118  138  158\t178  198  218  238  260\r\n",
      "013  039  059  079  099  119  139  159\t179  199  219  239  261\r\n",
      "014  040  060  080  100  120  140  160\t180  200  220  240  262\r\n",
      "015  041  061  081  101  121  141  161\t181  201  221  241  263\r\n",
      "016  042  062  082  102  122  142  162\t182  202  222  242  264\r\n",
      "017  043  063  083  103  123  143  163\t183  203  223  243  265\r\n",
      "018  044  064  084  104  124  144  164\t184  204  224  244  266\r\n",
      "019  045  065  085  105  125  145  165\t185  205  225  245  267\r\n",
      "020  046  066  086  106  126  146  166\t186  206  226  246  268\r\n"
     ]
    }
   ],
   "source": [
    "!ls /mnt/raid5/shong/oco2L2/"
   ]
  },
  {
   "cell_type": "code",
   "execution_count": 7,
   "metadata": {
    "scrolled": true
   },
   "outputs": [],
   "source": [
    "with open('/mnt/raid5/shong/oco2L2/julyfile.list', \"r\") as f:\n",
    "    h5list = []\n",
    "    for line in f:\n",
    "        h5list.append(h5dir+line.strip()[2:])"
   ]
  },
  {
   "cell_type": "code",
   "execution_count": 8,
   "metadata": {},
   "outputs": [
    {
     "data": {
      "text/plain": [
       "['/mnt/raid5/shong/oco2L2/208/oco2_L2StdGL_37601a_210727_B10206r_211102142403.h5',\n",
       " '/mnt/raid5/shong/oco2L2/208/oco2_L2StdGL_37607a_210727_B10206r_211102160738.h5']"
      ]
     },
     "execution_count": 8,
     "metadata": {},
     "output_type": "execute_result"
    }
   ],
   "source": [
    "h5list[:2]"
   ]
  },
  {
   "cell_type": "code",
   "execution_count": 9,
   "metadata": {},
   "outputs": [
    {
     "data": {
      "text/plain": [
       "['/mnt/raid5/shong/oco2L2/203/oco2_L2StdXS_37535a_210722_B10206r_211101181754.h5',\n",
       " '/mnt/raid5/shong/oco2L2/203/oco2_L2StdND_37532a_210722_B10206r_211101173743.h5']"
      ]
     },
     "execution_count": 9,
     "metadata": {},
     "output_type": "execute_result"
    }
   ],
   "source": [
    "h5list[-2:]"
   ]
  },
  {
   "cell_type": "code",
   "execution_count": 10,
   "metadata": {},
   "outputs": [
    {
     "name": "stdout",
     "output_type": "stream",
     "text": [
      "612\n"
     ]
    }
   ],
   "source": [
    "numh5list = len(h5list)\n",
    "print(numh5list)"
   ]
  },
  {
   "cell_type": "code",
   "execution_count": 11,
   "metadata": {},
   "outputs": [
    {
     "data": {
      "text/plain": [
       "True"
      ]
     },
     "execution_count": 11,
     "metadata": {},
     "output_type": "execute_result"
    }
   ],
   "source": [
    "h5py.is_hdf5(h5list[0])"
   ]
  },
  {
   "cell_type": "code",
   "execution_count": 12,
   "metadata": {},
   "outputs": [],
   "source": [
    "inh5file = h5list[0]"
   ]
  },
  {
   "cell_type": "code",
   "execution_count": 13,
   "metadata": {},
   "outputs": [],
   "source": [
    "try:\n",
    "    h5f = h5py.File(inh5file, \"r\")\n",
    "except IOError as e:\n",
    "    print(\"Error opening HDF5 file:\", str(e))\n",
    "# Don't forget f.close() when done! "
   ]
  },
  {
   "cell_type": "markdown",
   "metadata": {},
   "source": [
    "## Explore the `h5`"
   ]
  },
  {
   "cell_type": "code",
   "execution_count": 14,
   "metadata": {},
   "outputs": [
    {
     "name": "stdout",
     "output_type": "stream",
     "text": [
      "Group: AerosolResults\n",
      "Group: AlbedoResults\n",
      "Group: BRDFResults\n",
      "Group: Dimensions\n",
      "Group: DispersionResults\n",
      "Group: FootprintMeteorology\n",
      "Group: L1bScSoundingReference\n",
      "Group: L1bScSpectralParameters\n",
      "Group: Metadata\n",
      "Group: PreprocessingResults\n",
      "Group: RetrievalGeometry\n",
      "Group: RetrievalHeader\n",
      "Group: RetrievalResults\n",
      "Group: Shapes\n",
      "Group: SpectralParameters\n"
     ]
    }
   ],
   "source": [
    "for key in h5f.keys():\n",
    "    item = h5f[key]\n",
    "    \n",
    "    if isinstance(item, h5py.Group):  # Check if it's a group\n",
    "        print(f\"Group: {key}\")\n",
    "    elif isinstance(item, h5py.Dataset):  # Check if it's a dataset\n",
    "        print(f\"Dataset: {key}, dtype: {item.dtype}\")\n",
    "    else:\n",
    "        print(f\"Unknown item: {key}\")"
   ]
  },
  {
   "cell_type": "code",
   "execution_count": 15,
   "metadata": {},
   "outputs": [
    {
     "name": "stdout",
     "output_type": "stream",
     "text": [
      "Dataset: apriori_o2_column, dtype: float32, shape: (12952,)\n",
      "Dataset: co2_profile, dtype: float32, shape: (12952, 20)\n",
      "Dataset: co2_profile_apriori, dtype: float32, shape: (12952, 20)\n",
      "Dataset: co2_profile_averaging_kernel_matrix, dtype: float32, shape: (12952, 20, 20)\n",
      "Dataset: co2_profile_covariance_matrix, dtype: float32, shape: (12952, 20, 20)\n",
      "Dataset: co2_profile_uncert, dtype: float32, shape: (12952, 20)\n",
      "Dataset: co2_vertical_gradient_delta, dtype: float32, shape: (12952,)\n",
      "Dataset: diverging_steps, dtype: int16, shape: (12952,)\n",
      "Dataset: dof_co2_profile, dtype: float32, shape: (12952,)\n",
      "Dataset: dof_full_vector, dtype: float32, shape: (12952,)\n",
      "Dataset: eof_1_scale_apriori_o2, dtype: float32, shape: (12952,)\n",
      "Dataset: eof_1_scale_apriori_strong_co2, dtype: float32, shape: (12952,)\n",
      "Dataset: eof_1_scale_apriori_weak_co2, dtype: float32, shape: (12952,)\n",
      "Dataset: eof_1_scale_o2, dtype: float32, shape: (12952,)\n",
      "Dataset: eof_1_scale_strong_co2, dtype: float32, shape: (12952,)\n",
      "Dataset: eof_1_scale_uncert_o2, dtype: float32, shape: (12952,)\n",
      "Dataset: eof_1_scale_uncert_strong_co2, dtype: float32, shape: (12952,)\n",
      "Dataset: eof_1_scale_uncert_weak_co2, dtype: float32, shape: (12952,)\n",
      "Dataset: eof_1_scale_weak_co2, dtype: float32, shape: (12952,)\n",
      "Dataset: eof_2_scale_apriori_o2, dtype: float32, shape: (12952,)\n",
      "Dataset: eof_2_scale_apriori_strong_co2, dtype: float32, shape: (12952,)\n",
      "Dataset: eof_2_scale_apriori_weak_co2, dtype: float32, shape: (12952,)\n",
      "Dataset: eof_2_scale_o2, dtype: float32, shape: (12952,)\n",
      "Dataset: eof_2_scale_strong_co2, dtype: float32, shape: (12952,)\n",
      "Dataset: eof_2_scale_uncert_o2, dtype: float32, shape: (12952,)\n",
      "Dataset: eof_2_scale_uncert_strong_co2, dtype: float32, shape: (12952,)\n",
      "Dataset: eof_2_scale_uncert_weak_co2, dtype: float32, shape: (12952,)\n",
      "Dataset: eof_2_scale_weak_co2, dtype: float32, shape: (12952,)\n",
      "Dataset: eof_3_scale_apriori_o2, dtype: float32, shape: (12952,)\n",
      "Dataset: eof_3_scale_apriori_strong_co2, dtype: float32, shape: (12952,)\n",
      "Dataset: eof_3_scale_apriori_weak_co2, dtype: float32, shape: (12952,)\n",
      "Dataset: eof_3_scale_o2, dtype: float32, shape: (12952,)\n",
      "Dataset: eof_3_scale_strong_co2, dtype: float32, shape: (12952,)\n",
      "Dataset: eof_3_scale_uncert_o2, dtype: float32, shape: (12952,)\n",
      "Dataset: eof_3_scale_uncert_strong_co2, dtype: float32, shape: (12952,)\n",
      "Dataset: eof_3_scale_uncert_weak_co2, dtype: float32, shape: (12952,)\n",
      "Dataset: eof_3_scale_weak_co2, dtype: float32, shape: (12952,)\n",
      "Dataset: fluorescence_at_reference, dtype: float32, shape: (12952,)\n",
      "Dataset: fluorescence_at_reference_apriori, dtype: float32, shape: (12952,)\n",
      "Dataset: fluorescence_at_reference_uncert, dtype: float32, shape: (12952,)\n",
      "Dataset: fluorescence_slope, dtype: float32, shape: (12952,)\n",
      "Dataset: fluorescence_slope_apriori, dtype: float32, shape: (12952,)\n",
      "Dataset: fluorescence_slope_uncert, dtype: float32, shape: (12952,)\n",
      "Dataset: h2o_scale_factor, dtype: float32, shape: (12952,)\n",
      "Dataset: h2o_scale_factor_apriori, dtype: float32, shape: (12952,)\n",
      "Dataset: h2o_scale_factor_uncert, dtype: float32, shape: (12952,)\n",
      "Dataset: iterations, dtype: int16, shape: (12952,)\n",
      "Dataset: last_step_levenberg_marquardt_parameter, dtype: float32, shape: (12952,)\n",
      "Dataset: num_active_levels, dtype: int16, shape: (12952,)\n",
      "Dataset: outcome_flag, dtype: int8, shape: (12952,)\n",
      "Dataset: retrieved_co2_column, dtype: float32, shape: (12952,)\n",
      "Dataset: retrieved_dry_air_column_layer_thickness, dtype: float32, shape: (12952, 19)\n",
      "Dataset: retrieved_h2o_column, dtype: float32, shape: (12952,)\n",
      "Dataset: retrieved_h2o_column_layer_thickness, dtype: float32, shape: (12952, 19)\n",
      "Dataset: retrieved_o2_column, dtype: float32, shape: (12952,)\n",
      "Dataset: retrieved_wet_air_column_layer_thickness, dtype: float32, shape: (12952, 19)\n",
      "Dataset: specific_humidity_profile_met, dtype: float32, shape: (12952, 72)\n",
      "Dataset: surface_pressure_apriori_fph, dtype: float32, shape: (12952,)\n",
      "Dataset: surface_pressure_fph, dtype: float32, shape: (12952,)\n",
      "Dataset: surface_pressure_uncert_fph, dtype: float32, shape: (12952,)\n",
      "Dataset: surface_type, dtype: |S19, shape: (12952,)\n",
      "Dataset: temperature_offset_apriori_fph, dtype: float32, shape: (12952,)\n",
      "Dataset: temperature_offset_fph, dtype: float32, shape: (12952,)\n",
      "Dataset: temperature_offset_uncert_fph, dtype: float32, shape: (12952,)\n",
      "Dataset: temperature_profile_met, dtype: float32, shape: (12952, 72)\n",
      "Dataset: tropopause_altitude, dtype: float32, shape: (12952,)\n",
      "Dataset: tropopause_pressure, dtype: float32, shape: (12952,)\n",
      "Dataset: vector_altitude_levels, dtype: float32, shape: (12952, 20)\n",
      "Dataset: vector_altitude_levels_apriori, dtype: float32, shape: (12952, 20)\n",
      "Dataset: vector_pressure_levels, dtype: float32, shape: (12952, 20)\n",
      "Dataset: vector_pressure_levels_apriori, dtype: float32, shape: (12952, 20)\n",
      "Dataset: vector_pressure_levels_met, dtype: float32, shape: (12952, 72)\n",
      "Dataset: wind_speed, dtype: float32, shape: (12952,)\n",
      "Dataset: wind_speed_apriori, dtype: float32, shape: (12952,)\n",
      "Dataset: wind_speed_u_met, dtype: float32, shape: (12952,)\n",
      "Dataset: wind_speed_uncert, dtype: float32, shape: (12952,)\n",
      "Dataset: wind_speed_v_met, dtype: float32, shape: (12952,)\n",
      "Dataset: xco2, dtype: float32, shape: (12952,)\n",
      "Dataset: xco2_apriori, dtype: float32, shape: (12952,)\n",
      "Dataset: xco2_avg_kernel, dtype: float32, shape: (12952, 20)\n",
      "Dataset: xco2_avg_kernel_norm, dtype: float32, shape: (12952, 20)\n",
      "Dataset: xco2_pressure_weighting_function, dtype: float32, shape: (12952, 20)\n",
      "Dataset: xco2_uncert, dtype: float32, shape: (12952,)\n",
      "Dataset: xco2_uncert_interf, dtype: float32, shape: (12952,)\n",
      "Dataset: xco2_uncert_noise, dtype: float32, shape: (12952,)\n",
      "Dataset: xco2_uncert_smooth, dtype: float32, shape: (12952,)\n"
     ]
    }
   ],
   "source": [
    "for key in h5f['RetrievalResults'].keys():\n",
    "    item = h5f['RetrievalResults'][key]\n",
    "    \n",
    "    if isinstance(item, h5py.Group):  # Check if it's a group\n",
    "        print(f\"Group: {key}\")\n",
    "    elif isinstance(item, h5py.Dataset):  # Check if it's a dataset\n",
    "        print(f\"Dataset: {key}, dtype: {item.dtype}, shape: {item.shape}\")\n",
    "    else:\n",
    "        print(f\"Unknown item: {key}\")"
   ]
  },
  {
   "cell_type": "code",
   "execution_count": 16,
   "metadata": {},
   "outputs": [
    {
     "data": {
      "text/plain": [
       "array([0.00041481, 0.00041721, 0.00041088, ..., 0.00042293, 0.00042272,\n",
       "       0.00042121], dtype=float32)"
      ]
     },
     "execution_count": 16,
     "metadata": {},
     "output_type": "execute_result"
    }
   ],
   "source": [
    "h5f['RetrievalResults/xco2'][:]"
   ]
  },
  {
   "cell_type": "code",
   "execution_count": 17,
   "metadata": {},
   "outputs": [
    {
     "name": "stdout",
     "output_type": "stream",
     "text": [
      "Dataset: retrieval_altitude, dtype: float32, shape: (12952,)\n",
      "Dataset: retrieval_altitude_per_band, dtype: float32, shape: (12952, 3)\n",
      "Dataset: retrieval_altitude_uncert, dtype: float32, shape: (12952,)\n",
      "Dataset: retrieval_aspect, dtype: float32, shape: (12952,)\n",
      "Dataset: retrieval_azimuth, dtype: float32, shape: (12952,)\n",
      "Dataset: retrieval_center_offset_o2_weak_co2, dtype: float32, shape: (12952,)\n",
      "Dataset: retrieval_center_offset_strong_co2_o2, dtype: float32, shape: (12952,)\n",
      "Dataset: retrieval_center_offset_weak_co2_strong_co2, dtype: float32, shape: (12952,)\n",
      "Dataset: retrieval_land_fraction, dtype: float32, shape: (12952,)\n",
      "Dataset: retrieval_land_water_indicator, dtype: int8, shape: (12952,)\n",
      "Dataset: retrieval_latitude, dtype: float32, shape: (12952,)\n",
      "Dataset: retrieval_latitude_geoid, dtype: float32, shape: (12952,)\n",
      "Dataset: retrieval_longitude, dtype: float32, shape: (12952,)\n",
      "Dataset: retrieval_longitude_geoid, dtype: float32, shape: (12952,)\n",
      "Dataset: retrieval_los_surface_bidirectional_angle, dtype: float32, shape: (12952,)\n",
      "Dataset: retrieval_overlap, dtype: float32, shape: (12952,)\n",
      "Dataset: retrieval_overlap_o2_weak_co2, dtype: float32, shape: (12952,)\n",
      "Dataset: retrieval_overlap_strong_co2_o2, dtype: float32, shape: (12952,)\n",
      "Dataset: retrieval_overlap_weak_co2_strong_co2, dtype: float32, shape: (12952,)\n",
      "Dataset: retrieval_plane_fit_quality, dtype: float32, shape: (12952,)\n",
      "Dataset: retrieval_polarization_angle, dtype: float32, shape: (12952,)\n",
      "Dataset: retrieval_relative_velocity, dtype: float32, shape: (12952,)\n",
      "Dataset: retrieval_slant_path_diff_o2_weak_co2, dtype: float32, shape: (12952,)\n",
      "Dataset: retrieval_slant_path_diff_strong_co2_o2, dtype: float32, shape: (12952,)\n",
      "Dataset: retrieval_slant_path_diff_weak_co2_strong_co2, dtype: float32, shape: (12952,)\n",
      "Dataset: retrieval_slope, dtype: float32, shape: (12952,)\n",
      "Dataset: retrieval_solar_azimuth, dtype: float32, shape: (12952,)\n",
      "Dataset: retrieval_solar_distance, dtype: float64, shape: (12952,)\n",
      "Dataset: retrieval_solar_relative_velocity, dtype: float32, shape: (12952,)\n",
      "Dataset: retrieval_solar_surface_bidirectional_angle, dtype: float32, shape: (12952,)\n",
      "Dataset: retrieval_solar_zenith, dtype: float32, shape: (12952,)\n",
      "Dataset: retrieval_surface_roughness, dtype: float32, shape: (12952,)\n",
      "Dataset: retrieval_vertex_latitude, dtype: float32, shape: (12952, 3, 4)\n",
      "Dataset: retrieval_vertex_longitude, dtype: float32, shape: (12952, 3, 4)\n",
      "Dataset: retrieval_zenith, dtype: float32, shape: (12952,)\n"
     ]
    }
   ],
   "source": [
    "for key in h5f['RetrievalGeometry'].keys():\n",
    "    item = h5f['RetrievalGeometry'][key]\n",
    "    \n",
    "    if isinstance(item, h5py.Group):  # Check if it's a group\n",
    "        print(f\"Group: {key}\")\n",
    "    elif isinstance(item, h5py.Dataset):  # Check if it's a dataset\n",
    "        print(f\"Dataset: {key}, dtype: {item.dtype}, shape: {item.shape}\")\n",
    "    else:\n",
    "        print(f\"Unknown item: {key}\")"
   ]
  },
  {
   "cell_type": "code",
   "execution_count": 18,
   "metadata": {},
   "outputs": [
    {
     "data": {
      "text/plain": [
       "array([-54.449707, -54.442287, -54.431953, ...,  79.32484 ,  79.333755,\n",
       "        79.33841 ], dtype=float32)"
      ]
     },
     "execution_count": 18,
     "metadata": {},
     "output_type": "execute_result"
    }
   ],
   "source": [
    "h5f['RetrievalGeometry/retrieval_latitude'][:]"
   ]
  },
  {
   "cell_type": "code",
   "execution_count": 19,
   "metadata": {},
   "outputs": [
    {
     "data": {
      "text/plain": [
       "array([ 94.60168 ,  94.63712 ,  94.59557 , ..., -25.348944, -25.363718,\n",
       "       -25.472635], dtype=float32)"
      ]
     },
     "execution_count": 19,
     "metadata": {},
     "output_type": "execute_result"
    }
   ],
   "source": [
    "h5f['RetrievalGeometry/retrieval_longitude'][:]"
   ]
  },
  {
   "cell_type": "code",
   "execution_count": 20,
   "metadata": {},
   "outputs": [
    {
     "name": "stdout",
     "output_type": "stream",
     "text": [
      "Dataset: frame_index, dtype: int32, shape: (12952,)\n",
      "Dataset: retrieval_time_string, dtype: |S25, shape: (12952,)\n",
      "Dataset: retrieval_time_tai93, dtype: float64, shape: (12952,)\n",
      "Dataset: sounding_id, dtype: int64, shape: (12952,)\n",
      "Dataset: sounding_index, dtype: int32, shape: (12952,)\n",
      "Dataset: sounding_operation_mode, dtype: |S3, shape: (12952,)\n"
     ]
    }
   ],
   "source": [
    "for key in h5f['RetrievalHeader'].keys():\n",
    "    item = h5f['RetrievalHeader'][key]\n",
    "    \n",
    "    if isinstance(item, h5py.Group):  # Check if it's a group\n",
    "        print(f\"Group: {key}\")\n",
    "    elif isinstance(item, h5py.Dataset):  # Check if it's a dataset\n",
    "        print(f\"Dataset: {key}, dtype: {item.dtype}, shape: {item.shape}\")\n",
    "    else:\n",
    "        print(f\"Unknown item: {key}\")"
   ]
  },
  {
   "cell_type": "code",
   "execution_count": 21,
   "metadata": {},
   "outputs": [
    {
     "data": {
      "text/plain": [
       "array([b'2021-07-27T07:45:14.056Z', b'2021-07-27T07:45:14.363Z',\n",
       "       b'2021-07-27T07:45:14.389Z', ..., b'2021-07-27T08:29:35.615Z',\n",
       "       b'2021-07-27T08:29:35.975Z', b'2021-07-27T08:29:36.669Z'],\n",
       "      dtype='|S25')"
      ]
     },
     "execution_count": 21,
     "metadata": {},
     "output_type": "execute_result"
    }
   ],
   "source": [
    "h5f['RetrievalHeader/retrieval_time_string'][:]"
   ]
  },
  {
   "cell_type": "code",
   "execution_count": 22,
   "metadata": {},
   "outputs": [
    {
     "data": {
      "text/plain": [
       "'2021-07-27T07:45:14.056Z'"
      ]
     },
     "execution_count": 22,
     "metadata": {},
     "output_type": "execute_result"
    }
   ],
   "source": [
    "h5f['RetrievalHeader/retrieval_time_string'][0].decode()"
   ]
  },
  {
   "cell_type": "markdown",
   "metadata": {},
   "source": [
    "> Which groups and datasets for matching `xco` and its corresponding `L1` ?"
   ]
  },
  {
   "cell_type": "markdown",
   "metadata": {},
   "source": [
    "## Save selected features as a parquet"
   ]
  },
  {
   "cell_type": "code",
   "execution_count": 23,
   "metadata": {},
   "outputs": [
    {
     "data": {
      "text/plain": [
       "'/mnt/raid5/shong/oco2L2/208/oco2_L2StdGL_37601a_210727_B10206r_211102142403.h5'"
      ]
     },
     "execution_count": 23,
     "metadata": {},
     "output_type": "execute_result"
    }
   ],
   "source": [
    "inh5file"
   ]
  },
  {
   "cell_type": "code",
   "execution_count": 24,
   "metadata": {},
   "outputs": [
    {
     "data": {
      "text/plain": [
       "'L2StdGL_37601a_210727_B10206r_211102142403.h5'"
      ]
     },
     "execution_count": 24,
     "metadata": {},
     "output_type": "execute_result"
    }
   ],
   "source": [
    "inh5file.split('oco2_')[-1]"
   ]
  },
  {
   "cell_type": "code",
   "execution_count": 25,
   "metadata": {},
   "outputs": [],
   "source": [
    "fname = inh5file.split('oco2_')[-1]"
   ]
  },
  {
   "cell_type": "code",
   "execution_count": 26,
   "metadata": {},
   "outputs": [],
   "source": [
    "schema = T.StructType([\\\n",
    "                       T.StructField('filename',T.StringType(), True),\\\n",
    "                       T.StructField('altitude',T.FloatType(), True),\\\n",
    "                       T.StructField('longitude',T.FloatType(), True),\\\n",
    "                       T.StructField('latitude',T.FloatType(), True),\\\n",
    "                       T.StructField('aspect',T.FloatType(), True),\\\n",
    "                       T.StructField('slope',T.FloatType(), True),\\\n",
    "                       T.StructField('sol_az',T.FloatType(), True),\\\n",
    "                       T.StructField('sol_zn',T.FloatType(), True),\\\n",
    "                       T.StructField('xco2',T.FloatType(), True),\\\n",
    "                       T.StructField('time_str',T.StringType(), True)\\\n",
    "                      ])"
   ]
  },
  {
   "cell_type": "code",
   "execution_count": 27,
   "metadata": {},
   "outputs": [
    {
     "name": "stdout",
     "output_type": "stream",
     "text": [
      "12952\n"
     ]
    }
   ],
   "source": [
    "numresults = len(h5f['RetrievalResults/xco2'][:])\n",
    "print(numresults)"
   ]
  },
  {
   "cell_type": "code",
   "execution_count": 28,
   "metadata": {},
   "outputs": [],
   "source": [
    "fillist = []\n",
    "altlist = []\n",
    "lonlist = []\n",
    "latlist = []\n",
    "asplist = []\n",
    "slolist = []\n",
    "sazlist = []\n",
    "sznlist = []\n",
    "tstrlist = []\n",
    "xcolist = []"
   ]
  },
  {
   "cell_type": "code",
   "execution_count": 29,
   "metadata": {},
   "outputs": [],
   "source": [
    "fillist = [fname for i in range(numresults)]"
   ]
  },
  {
   "cell_type": "code",
   "execution_count": 30,
   "metadata": {},
   "outputs": [],
   "source": [
    "altlist = h5f['RetrievalGeometry/retrieval_altitude'][:].tolist()\n",
    "lonlist = h5f['RetrievalGeometry/retrieval_longitude'][:].tolist()\n",
    "latlist = h5f['RetrievalGeometry/retrieval_latitude'][:].tolist()\n",
    "asplist = h5f['RetrievalGeometry/retrieval_aspect'][:].tolist()\n",
    "slolist = h5f['RetrievalGeometry/retrieval_slope'][:].tolist()\n",
    "sazlist = h5f['RetrievalGeometry/retrieval_solar_azimuth'][:].tolist()\n",
    "sznlist = h5f['RetrievalGeometry/retrieval_solar_zenith'][:].tolist()\n",
    "xcolist = h5f['RetrievalResults/xco2'][:].tolist()"
   ]
  },
  {
   "cell_type": "code",
   "execution_count": 31,
   "metadata": {},
   "outputs": [],
   "source": [
    "tstrlist = [ onestr.decode() for onestr in h5f['RetrievalHeader/retrieval_time_string'][:].tolist()]"
   ]
  },
  {
   "cell_type": "code",
   "execution_count": 32,
   "metadata": {},
   "outputs": [
    {
     "data": {
      "text/plain": [
       "12952"
      ]
     },
     "execution_count": 32,
     "metadata": {},
     "output_type": "execute_result"
    }
   ],
   "source": [
    "len(tstrlist)"
   ]
  },
  {
   "cell_type": "code",
   "execution_count": 33,
   "metadata": {},
   "outputs": [
    {
     "data": {
      "text/plain": [
       "['2021-07-27T07:45:14.056Z', '2021-07-27T07:45:14.363Z']"
      ]
     },
     "execution_count": 33,
     "metadata": {},
     "output_type": "execute_result"
    }
   ],
   "source": [
    "tstrlist[:2]"
   ]
  },
  {
   "cell_type": "code",
   "execution_count": 34,
   "metadata": {},
   "outputs": [
    {
     "data": {
      "text/plain": [
       "['2021-07-27T08:29:35.975Z', '2021-07-27T08:29:36.669Z']"
      ]
     },
     "execution_count": 34,
     "metadata": {},
     "output_type": "execute_result"
    }
   ],
   "source": [
    "tstrlist[-2:]"
   ]
  },
  {
   "cell_type": "code",
   "execution_count": 40,
   "metadata": {},
   "outputs": [
    {
     "name": "stdout",
     "output_type": "stream",
     "text": [
      "CPU times: user 49.4 ms, sys: 417 µs, total: 49.8 ms\n",
      "Wall time: 909 ms\n"
     ]
    }
   ],
   "source": [
    "%%time\n",
    "sparkdf = spark.createDataFrame(zip(fillist,altlist,lonlist,latlist,asplist,slolist, \\\n",
    "                                    sazlist,sznlist,xcolist,tstrlist),schema)"
   ]
  },
  {
   "cell_type": "code",
   "execution_count": 41,
   "metadata": {},
   "outputs": [],
   "source": [
    "outdir = 'hdfs://spark00:54310/user/shong/data/parquet/oco2L2/'"
   ]
  },
  {
   "cell_type": "code",
   "execution_count": 42,
   "metadata": {},
   "outputs": [
    {
     "name": "stdout",
     "output_type": "stream",
     "text": [
      "hdfs://spark00:54310/user/shong/data/parquet/oco2L2/L2StdGL_37601a_210727_B10206r_211102142403.parquet.snappy\n"
     ]
    }
   ],
   "source": [
    "outname = outdir+inh5file.split('oco2_')[-1].replace(\"h5\",\"parquet.snappy\")\n",
    "print(outname)"
   ]
  },
  {
   "cell_type": "code",
   "execution_count": 43,
   "metadata": {},
   "outputs": [
    {
     "name": "stdout",
     "output_type": "stream",
     "text": [
      "CPU times: user 3.27 ms, sys: 1.57 ms, total: 4.84 ms\n",
      "Wall time: 7.13 s\n"
     ]
    }
   ],
   "source": [
    "%%time\n",
    "sparkdf.write.option(\"compression\", \"snappy\") \\\n",
    "    .mode(\"overwrite\") \\\n",
    "    .save(outname)"
   ]
  },
  {
   "cell_type": "markdown",
   "metadata": {},
   "source": [
    "### Check up the parquet"
   ]
  },
  {
   "cell_type": "code",
   "execution_count": 44,
   "metadata": {},
   "outputs": [
    {
     "name": "stdout",
     "output_type": "stream",
     "text": [
      "root\n",
      " |-- filename: string (nullable = true)\n",
      " |-- altitude: float (nullable = true)\n",
      " |-- longitude: float (nullable = true)\n",
      " |-- latitude: float (nullable = true)\n",
      " |-- aspect: float (nullable = true)\n",
      " |-- slope: float (nullable = true)\n",
      " |-- sol_az: float (nullable = true)\n",
      " |-- sol_zn: float (nullable = true)\n",
      " |-- xco2: float (nullable = true)\n",
      " |-- time_str: string (nullable = true)\n",
      "\n"
     ]
    }
   ],
   "source": [
    "sparkdf.printSchema()"
   ]
  },
  {
   "cell_type": "code",
   "execution_count": 45,
   "metadata": {},
   "outputs": [
    {
     "name": "stdout",
     "output_type": "stream",
     "text": [
      "12952\n",
      "CPU times: user 3.71 ms, sys: 0 ns, total: 3.71 ms\n",
      "Wall time: 635 ms\n"
     ]
    }
   ],
   "source": [
    "%%time\n",
    "print(sparkdf.count())"
   ]
  },
  {
   "cell_type": "code",
   "execution_count": 46,
   "metadata": {},
   "outputs": [
    {
     "name": "stdout",
     "output_type": "stream",
     "text": [
      "CPU times: user 12.5 ms, sys: 0 ns, total: 12.5 ms\n",
      "Wall time: 573 ms\n"
     ]
    },
    {
     "data": {
      "text/html": [
       "<div>\n",
       "<style scoped>\n",
       "    .dataframe tbody tr th:only-of-type {\n",
       "        vertical-align: middle;\n",
       "    }\n",
       "\n",
       "    .dataframe tbody tr th {\n",
       "        vertical-align: top;\n",
       "    }\n",
       "\n",
       "    .dataframe thead th {\n",
       "        text-align: right;\n",
       "    }\n",
       "</style>\n",
       "<table border=\"1\" class=\"dataframe\">\n",
       "  <thead>\n",
       "    <tr style=\"text-align: right;\">\n",
       "      <th></th>\n",
       "      <th>0</th>\n",
       "      <th>1</th>\n",
       "    </tr>\n",
       "  </thead>\n",
       "  <tbody>\n",
       "    <tr>\n",
       "      <th>filename</th>\n",
       "      <td>L2StdGL_37601a_210727_B10206r_211102142403.h5</td>\n",
       "      <td>L2StdGL_37601a_210727_B10206r_211102142403.h5</td>\n",
       "    </tr>\n",
       "    <tr>\n",
       "      <th>altitude</th>\n",
       "      <td>0.0</td>\n",
       "      <td>0.0</td>\n",
       "    </tr>\n",
       "    <tr>\n",
       "      <th>longitude</th>\n",
       "      <td>87.146935</td>\n",
       "      <td>87.130074</td>\n",
       "    </tr>\n",
       "    <tr>\n",
       "      <th>latitude</th>\n",
       "      <td>-24.197536</td>\n",
       "      <td>-24.194849</td>\n",
       "    </tr>\n",
       "    <tr>\n",
       "      <th>aspect</th>\n",
       "      <td>0.0</td>\n",
       "      <td>0.0</td>\n",
       "    </tr>\n",
       "    <tr>\n",
       "      <th>slope</th>\n",
       "      <td>0.0</td>\n",
       "      <td>0.0</td>\n",
       "    </tr>\n",
       "    <tr>\n",
       "      <th>sol_az</th>\n",
       "      <td>329.311066</td>\n",
       "      <td>329.328033</td>\n",
       "    </tr>\n",
       "    <tr>\n",
       "      <th>sol_zn</th>\n",
       "      <td>49.324081</td>\n",
       "      <td>49.313976</td>\n",
       "    </tr>\n",
       "    <tr>\n",
       "      <th>xco2</th>\n",
       "      <td>0.000412</td>\n",
       "      <td>0.000413</td>\n",
       "    </tr>\n",
       "    <tr>\n",
       "      <th>time_str</th>\n",
       "      <td>2021-07-27T07:54:41.228Z</td>\n",
       "      <td>2021-07-27T07:54:41.255Z</td>\n",
       "    </tr>\n",
       "  </tbody>\n",
       "</table>\n",
       "</div>"
      ],
      "text/plain": [
       "                                                       0  \\\n",
       "filename   L2StdGL_37601a_210727_B10206r_211102142403.h5   \n",
       "altitude                                             0.0   \n",
       "longitude                                      87.146935   \n",
       "latitude                                      -24.197536   \n",
       "aspect                                               0.0   \n",
       "slope                                                0.0   \n",
       "sol_az                                        329.311066   \n",
       "sol_zn                                         49.324081   \n",
       "xco2                                            0.000412   \n",
       "time_str                        2021-07-27T07:54:41.228Z   \n",
       "\n",
       "                                                       1  \n",
       "filename   L2StdGL_37601a_210727_B10206r_211102142403.h5  \n",
       "altitude                                             0.0  \n",
       "longitude                                      87.130074  \n",
       "latitude                                      -24.194849  \n",
       "aspect                                               0.0  \n",
       "slope                                                0.0  \n",
       "sol_az                                        329.328033  \n",
       "sol_zn                                         49.313976  \n",
       "xco2                                            0.000413  \n",
       "time_str                        2021-07-27T07:54:41.255Z  "
      ]
     },
     "execution_count": 46,
     "metadata": {},
     "output_type": "execute_result"
    }
   ],
   "source": [
    "%%time\n",
    "sparkdf.limit(2).toPandas().transpose()"
   ]
  },
  {
   "cell_type": "code",
   "execution_count": 47,
   "metadata": {},
   "outputs": [
    {
     "name": "stdout",
     "output_type": "stream",
     "text": [
      "+--------------------+--------+---------+----------+------+-----+---------+--------+------------+--------------------+\n",
      "|            filename|altitude|longitude|  latitude|aspect|slope|   sol_az|  sol_zn|        xco2|            time_str|\n",
      "+--------------------+--------+---------+----------+------+-----+---------+--------+------------+--------------------+\n",
      "|L2StdGL_37601a_21...|     0.0| 94.60168|-54.449707|   0.0|  0.0|331.78232| 77.7332|4.1481422E-4|2021-07-27T07:45:...|\n",
      "|L2StdGL_37601a_21...|     0.0| 94.63712|-54.442287|   0.0|  0.0| 331.7476|77.73676| 4.172136E-4|2021-07-27T07:45:...|\n",
      "|L2StdGL_37601a_21...|     0.0| 94.59557|-54.431953|   0.0|  0.0|331.78485|77.71626| 4.108803E-4|2021-07-27T07:45:...|\n",
      "+--------------------+--------+---------+----------+------+-----+---------+--------+------------+--------------------+\n",
      "only showing top 3 rows\n",
      "\n"
     ]
    }
   ],
   "source": [
    "sparkdf.show(3,truncate=True)"
   ]
  },
  {
   "cell_type": "code",
   "execution_count": 48,
   "metadata": {},
   "outputs": [
    {
     "name": "stdout",
     "output_type": "stream",
     "text": [
      "CPU times: user 3.91 ms, sys: 8.02 ms, total: 11.9 ms\n",
      "Wall time: 2.82 s\n"
     ]
    },
    {
     "data": {
      "text/html": [
       "<div>\n",
       "<style scoped>\n",
       "    .dataframe tbody tr th:only-of-type {\n",
       "        vertical-align: middle;\n",
       "    }\n",
       "\n",
       "    .dataframe tbody tr th {\n",
       "        vertical-align: top;\n",
       "    }\n",
       "\n",
       "    .dataframe thead th {\n",
       "        text-align: right;\n",
       "    }\n",
       "</style>\n",
       "<table border=\"1\" class=\"dataframe\">\n",
       "  <thead>\n",
       "    <tr style=\"text-align: right;\">\n",
       "      <th>summary</th>\n",
       "      <th>count</th>\n",
       "      <th>mean</th>\n",
       "      <th>stddev</th>\n",
       "      <th>min</th>\n",
       "      <th>max</th>\n",
       "    </tr>\n",
       "  </thead>\n",
       "  <tbody>\n",
       "    <tr>\n",
       "      <th>filename</th>\n",
       "      <td>12952</td>\n",
       "      <td>None</td>\n",
       "      <td>None</td>\n",
       "      <td>L2StdGL_37601a_210727_B10206r_211102142403.h5</td>\n",
       "      <td>L2StdGL_37601a_210727_B10206r_211102142403.h5</td>\n",
       "    </tr>\n",
       "    <tr>\n",
       "      <th>altitude</th>\n",
       "      <td>12952</td>\n",
       "      <td>689.3239429860262</td>\n",
       "      <td>1305.191611339438</td>\n",
       "      <td>0.0</td>\n",
       "      <td>5795.221</td>\n",
       "    </tr>\n",
       "    <tr>\n",
       "      <th>longitude</th>\n",
       "      <td>12952</td>\n",
       "      <td>70.80185025956176</td>\n",
       "      <td>23.841023320777175</td>\n",
       "      <td>-25.472635</td>\n",
       "      <td>94.77584</td>\n",
       "    </tr>\n",
       "    <tr>\n",
       "      <th>latitude</th>\n",
       "      <td>12952</td>\n",
       "      <td>20.144116591884213</td>\n",
       "      <td>37.480726377530125</td>\n",
       "      <td>-54.449707</td>\n",
       "      <td>79.66689</td>\n",
       "    </tr>\n",
       "    <tr>\n",
       "      <th>aspect</th>\n",
       "      <td>12952</td>\n",
       "      <td>100.03833487890016</td>\n",
       "      <td>121.1369714622212</td>\n",
       "      <td>0.0</td>\n",
       "      <td>359.9664</td>\n",
       "    </tr>\n",
       "    <tr>\n",
       "      <th>slope</th>\n",
       "      <td>12952</td>\n",
       "      <td>6.770544836041603</td>\n",
       "      <td>17.722601994561163</td>\n",
       "      <td>0.0</td>\n",
       "      <td>90.0015</td>\n",
       "    </tr>\n",
       "    <tr>\n",
       "      <th>sol_az</th>\n",
       "      <td>12952</td>\n",
       "      <td>248.94193808453696</td>\n",
       "      <td>69.20408780473413</td>\n",
       "      <td>96.4665</td>\n",
       "      <td>332.35168</td>\n",
       "    </tr>\n",
       "    <tr>\n",
       "      <th>sol_zn</th>\n",
       "      <td>12952</td>\n",
       "      <td>38.79949679751688</td>\n",
       "      <td>15.097096160217664</td>\n",
       "      <td>20.080725</td>\n",
       "      <td>77.73676</td>\n",
       "    </tr>\n",
       "    <tr>\n",
       "      <th>xco2</th>\n",
       "      <td>12952</td>\n",
       "      <td>4.0923516702371716E-4</td>\n",
       "      <td>5.257489985069492E-6</td>\n",
       "      <td>3.5354478E-4</td>\n",
       "      <td>4.2750782E-4</td>\n",
       "    </tr>\n",
       "    <tr>\n",
       "      <th>time_str</th>\n",
       "      <td>12952</td>\n",
       "      <td>None</td>\n",
       "      <td>None</td>\n",
       "      <td>2021-07-27T07:45:14.056Z</td>\n",
       "      <td>2021-07-27T08:29:36.669Z</td>\n",
       "    </tr>\n",
       "  </tbody>\n",
       "</table>\n",
       "</div>"
      ],
      "text/plain": [
       "summary    count                   mean                stddev  \\\n",
       "filename   12952                   None                  None   \n",
       "altitude   12952      689.3239429860262     1305.191611339438   \n",
       "longitude  12952      70.80185025956176    23.841023320777175   \n",
       "latitude   12952     20.144116591884213    37.480726377530125   \n",
       "aspect     12952     100.03833487890016     121.1369714622212   \n",
       "slope      12952      6.770544836041603    17.722601994561163   \n",
       "sol_az     12952     248.94193808453696     69.20408780473413   \n",
       "sol_zn     12952      38.79949679751688    15.097096160217664   \n",
       "xco2       12952  4.0923516702371716E-4  5.257489985069492E-6   \n",
       "time_str   12952                   None                  None   \n",
       "\n",
       "summary                                              min  \\\n",
       "filename   L2StdGL_37601a_210727_B10206r_211102142403.h5   \n",
       "altitude                                             0.0   \n",
       "longitude                                     -25.472635   \n",
       "latitude                                      -54.449707   \n",
       "aspect                                               0.0   \n",
       "slope                                                0.0   \n",
       "sol_az                                           96.4665   \n",
       "sol_zn                                         20.080725   \n",
       "xco2                                        3.5354478E-4   \n",
       "time_str                        2021-07-27T07:45:14.056Z   \n",
       "\n",
       "summary                                              max  \n",
       "filename   L2StdGL_37601a_210727_B10206r_211102142403.h5  \n",
       "altitude                                        5795.221  \n",
       "longitude                                       94.77584  \n",
       "latitude                                        79.66689  \n",
       "aspect                                          359.9664  \n",
       "slope                                            90.0015  \n",
       "sol_az                                         332.35168  \n",
       "sol_zn                                          77.73676  \n",
       "xco2                                        4.2750782E-4  \n",
       "time_str                        2021-07-27T08:29:36.669Z  "
      ]
     },
     "execution_count": 48,
     "metadata": {},
     "output_type": "execute_result"
    }
   ],
   "source": [
    "%%time\n",
    "sparkdf.describe().toPandas().set_index('summary').transpose()"
   ]
  },
  {
   "cell_type": "code",
   "execution_count": null,
   "metadata": {},
   "outputs": [],
   "source": []
  }
 ],
 "metadata": {
  "kernelspec": {
   "display_name": "Python 3",
   "language": "python",
   "name": "python3"
  },
  "language_info": {
   "codemirror_mode": {
    "name": "ipython",
    "version": 3
   },
   "file_extension": ".py",
   "mimetype": "text/x-python",
   "name": "python",
   "nbconvert_exporter": "python",
   "pygments_lexer": "ipython3",
   "version": "3.8.10"
  }
 },
 "nbformat": 4,
 "nbformat_minor": 4
}
